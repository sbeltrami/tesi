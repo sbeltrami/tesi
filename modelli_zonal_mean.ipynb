{
 "cells": [
  {
   "cell_type": "code",
   "execution_count": 1,
   "metadata": {},
   "outputs": [],
   "source": [
    "import xarray as xr\n",
    "import numpy as np\n",
    "import matplotlib.pyplot as plt\n",
    "import os\n",
    "from funzioni import compute_dataset_weighted\n",
    "from funzioni import compute_annual_mean_weighted\n",
    "from funzioni import convert_dataset_celsius\n",
    "from funzioni import compute_anomaly\n",
    "from funzioni import create_djf_dataset\n",
    "from funzioni import compute_mean_time_season\n",
    "from funzioni import compute_mean_resample_mar\n",
    "from funzioni import plot_bias_atmos\n",
    "from funzioni import plot_bias_tos\n",
    "from funzioni import plot_mean_cluster_atmos\n",
    "from funzioni import plot_bias_2_models_atmos\n",
    "import matplotlib.cm as cm\n",
    "import matplotlib.pyplot as plt\n",
    "import numpy as np\n",
    "import pylab as pl\n",
    "import plotly.express as px\n",
    "import dill\n",
    "import pickle"
   ]
  },
  {
   "cell_type": "code",
   "execution_count": 2,
   "metadata": {},
   "outputs": [],
   "source": [
    "# creo un dizionario in cui andrò a mettere tutti i modelli dentro\n",
    "models_zonavg = {}"
   ]
  },
  {
   "cell_type": "code",
   "execution_count": 3,
   "metadata": {},
   "outputs": [],
   "source": [
    "#Percorso dei file\n",
    "name_models_zonavg = '/work/users/guest/sbeltrami/prova/zonal_mean_name_ok_model.txt'\n",
    "path_models_zonavg = '/work/users/guest/sbeltrami/prova/path_zonal_mean_model.txt'\n",
    "path_remap_models_zonavg = '/work/users/guest/sbeltrami/prova/path_remap_zonal_mean_model.txt'\n",
    "path_zonal_model_models_zonavg = '/work/users/guest/sbeltrami/prova/path_zonavg_model.txt'\n",
    "# Apro i 3 file in modalità di lettura\n",
    "with open(name_models_zonavg, 'r') as file: #nome file\n",
    "    # Leggo tutte le righe del file e salvo in una lista\n",
    "    lines_name_models_zonavg = file.readlines()\n",
    "with open(path_models_zonavg, 'r') as file: #percorso dei file .nc\n",
    "    lines_path_models_zonavg = file.readlines()\n",
    "with open(path_remap_models_zonavg, 'r') as file: #percorso dei file remap\n",
    "    lines_path_remap_models_zonavg = file.readlines()\n",
    "with open(path_zonal_model_models_zonavg, 'r') as file: #percorso dei file remap + zonavg\n",
    "    lines_path_zonal_model_models_zonavg = file.readlines()"
   ]
  },
  {
   "cell_type": "code",
   "execution_count": 4,
   "metadata": {},
   "outputs": [],
   "source": [
    "# Itero su tutte le righe dei 3 file e organizzo i dati nel dizionario\n",
    "for line_name, line_path, line_path_remap, line_path_zonal_model in zip(lines_name_models_zonavg, lines_path_models_zonavg, lines_path_remap_models_zonavg,lines_path_zonal_model_models_zonavg): #zip per iterare sulle 3 liste contemporaneamente\n",
    "    model_name = line_name.strip() #senza spazi bianchi\n",
    "    #model_name è la chiave principale\n",
    "    # Inizializzo il dizionario se non esiste ancora\n",
    "    if model_name not in models_zonavg:\n",
    "        models_zonavg[model_name] = {}\n",
    "    # Aggiungo name, path, path remap come sottochiavi\n",
    "    models_zonavg[model_name]['zonavg name'] = model_name\n",
    "    models_zonavg[model_name]['zonavg path'] = line_path.strip()\n",
    "    models_zonavg[model_name]['zonavg path remap'] = line_path_remap.strip()\n",
    "    models_zonavg[model_name]['zonavg path remap zonal mean'] = line_path_zonal_model.strip()"
   ]
  },
  {
   "cell_type": "code",
   "execution_count": 5,
   "metadata": {},
   "outputs": [
    {
     "data": {
      "text/plain": [
       "dict_items([('TaiESM1', {'zonavg name': 'TaiESM1', 'zonavg path': '/work/users/guest/sbeltrami/zonal_mean/TaiESM1.nc', 'zonavg path remap': '/work/users/guest/sbeltrami/zonal_mean/TaiESM1_remapcon.nc', 'zonavg path remap zonal mean': '/work/users/guest/sbeltrami/zonal_mean/TaiESM1_zonal_mean.nc'}), ('AWI-CM-1-1-MR', {'zonavg name': 'AWI-CM-1-1-MR', 'zonavg path': '/work/users/guest/sbeltrami/zonal_mean/AWI-CM-1-1-MR.nc', 'zonavg path remap': '/work/users/guest/sbeltrami/zonal_mean/AWI-CM-1-1-MR_remapcon.nc', 'zonavg path remap zonal mean': '/work/users/guest/sbeltrami/zonal_mean/AWI-CM-1-1-MR_zonal_mean.nc'}), ('AWI-ESM-1-1-LR', {'zonavg name': 'AWI-ESM-1-1-LR', 'zonavg path': '/work/users/guest/sbeltrami/zonal_mean/AWI-ESM-1-1-LR.nc', 'zonavg path remap': '/work/users/guest/sbeltrami/zonal_mean/AWI-ESM-1-1-LR_remapcon.nc', 'zonavg path remap zonal mean': '/work/users/guest/sbeltrami/zonal_mean/AWI-ESM-1-1-LR_zonal_mean.nc'}), ('BCC-CSM2-MR', {'zonavg name': 'BCC-CSM2-MR', 'zonavg path': '/work/users/guest/sbeltrami/zonal_mean/BCC-CSM2-MR.nc', 'zonavg path remap': '/work/users/guest/sbeltrami/zonal_mean/BCC-CSM2-MR_remapcon.nc', 'zonavg path remap zonal mean': '/work/users/guest/sbeltrami/zonal_mean/BCC-CSM2-MR_zonal_mean.nc'}), ('BCC-ESM1', {'zonavg name': 'BCC-ESM1', 'zonavg path': '/work/users/guest/sbeltrami/zonal_mean/BCC-ESM1.nc', 'zonavg path remap': '/work/users/guest/sbeltrami/zonal_mean/BCC-ESM1_remapcon.nc', 'zonavg path remap zonal mean': '/work/users/guest/sbeltrami/zonal_mean/BCC-ESM1_zonal_mean.nc'}), ('CAMS-CSM1-0', {'zonavg name': 'CAMS-CSM1-0', 'zonavg path': '/work/users/guest/sbeltrami/zonal_mean/CAMS-CSM1-0.nc', 'zonavg path remap': '/work/users/guest/sbeltrami/zonal_mean/CAMS-CSM1-0_remapcon.nc', 'zonavg path remap zonal mean': '/work/users/guest/sbeltrami/zonal_mean/CAMS-CSM1-0_zonal_mean.nc'}), ('CAS-ESM2-0', {'zonavg name': 'CAS-ESM2-0', 'zonavg path': '/work/users/guest/sbeltrami/zonal_mean/CAS-ESM2-0.nc', 'zonavg path remap': '/work/users/guest/sbeltrami/zonal_mean/CAS-ESM2-0_remapcon.nc', 'zonavg path remap zonal mean': '/work/users/guest/sbeltrami/zonal_mean/CAS-ESM2-0_zonal_mean.nc'}), ('FGOALS-g3', {'zonavg name': 'FGOALS-g3', 'zonavg path': '/work/users/guest/sbeltrami/zonal_mean/FGOALS-g3.nc', 'zonavg path remap': '/work/users/guest/sbeltrami/zonal_mean/FGOALS-g3_remapcon.nc', 'zonavg path remap zonal mean': '/work/users/guest/sbeltrami/zonal_mean/FGOALS-g3_zonal_mean.nc'}), ('CanESM5', {'zonavg name': 'CanESM5', 'zonavg path': '/work/users/guest/sbeltrami/zonal_mean/CanESM5.nc', 'zonavg path remap': '/work/users/guest/sbeltrami/zonal_mean/CanESM5_remapcon.nc', 'zonavg path remap zonal mean': '/work/users/guest/sbeltrami/zonal_mean/CanESM5_zonal_mean.nc'}), ('CMCC-CM2-SR5', {'zonavg name': 'CMCC-CM2-SR5', 'zonavg path': '/work/users/guest/sbeltrami/zonal_mean/CMCC-CM2-SR5.nc', 'zonavg path remap': '/work/users/guest/sbeltrami/zonal_mean/CMCC-CM2-SR5_remapcon.nc', 'zonavg path remap zonal mean': '/work/users/guest/sbeltrami/zonal_mean/CMCC-CM2-SR5_zonal_mean.nc'}), ('ACCESS-ESM1-5', {'zonavg name': 'ACCESS-ESM1-5', 'zonavg path': '/work/users/guest/sbeltrami/zonal_mean/ACCESS-ESM1-5.nc', 'zonavg path remap': '/work/users/guest/sbeltrami/zonal_mean/ACCESS-ESM1-5_remapcon.nc', 'zonavg path remap zonal mean': '/work/users/guest/sbeltrami/zonal_mean/ACCESS-ESM1-5_zonal_mean.nc'}), ('ACCESS-CM2', {'zonavg name': 'ACCESS-CM2', 'zonavg path': '/work/users/guest/sbeltrami/zonal_mean/ACCESS-CM2.nc', 'zonavg path remap': '/work/users/guest/sbeltrami/zonal_mean/ACCESS-CM2_remapcon.nc', 'zonavg path remap zonal mean': '/work/users/guest/sbeltrami/zonal_mean/ACCESS-CM2_zonal_mean.nc'}), ('E3SM-1-0', {'zonavg name': 'E3SM-1-0', 'zonavg path': '/work/users/guest/sbeltrami/zonal_mean/E3SM-1-0.nc', 'zonavg path remap': '/work/users/guest/sbeltrami/zonal_mean/E3SM-1-0_remapcon.nc', 'zonavg path remap zonal mean': '/work/users/guest/sbeltrami/zonal_mean/E3SM-1-0_zonal_mean.nc'}), ('EC-Earth3', {'zonavg name': 'EC-Earth3', 'zonavg path': '/work/users/guest/sbeltrami/zonal_mean/EC-Earth3.nc', 'zonavg path remap': '/work/users/guest/sbeltrami/zonal_mean/EC-Earth3_remapcon.nc', 'zonavg path remap zonal mean': '/work/users/guest/sbeltrami/zonal_mean/EC-Earth3_zonal_mean.nc'}), ('EC-Earth3-Veg', {'zonavg name': 'EC-Earth3-Veg', 'zonavg path': '/work/users/guest/sbeltrami/zonal_mean/EC-Earth3-Veg.nc', 'zonavg path remap': '/work/users/guest/sbeltrami/zonal_mean/EC-Earth3-Veg_remapcon.nc', 'zonavg path remap zonal mean': '/work/users/guest/sbeltrami/zonal_mean/EC-Earth3-Veg_zonal_mean.nc'}), ('FIO-ESM-2-0', {'zonavg name': 'FIO-ESM-2-0', 'zonavg path': '/work/users/guest/sbeltrami/zonal_mean/FIO-ESM-2-0.nc', 'zonavg path remap': '/work/users/guest/sbeltrami/zonal_mean/FIO-ESM-2-0_remapbil.nc', 'zonavg path remap zonal mean': '/work/users/guest/sbeltrami/zonal_mean/FIO-ESM-2-0_zonal_mean.nc'}), ('MPI-ESM-1-2-HAM', {'zonavg name': 'MPI-ESM-1-2-HAM', 'zonavg path': '/work/users/guest/sbeltrami/zonal_mean/MPI-ESM-1-2-HAM.nc', 'zonavg path remap': '/work/users/guest/sbeltrami/zonal_mean/MPI-ESM-1-2-HAM_remapcon.nc', 'zonavg path remap zonal mean': '/work/users/guest/sbeltrami/zonal_mean/MPI-ESM-1-2-HAM_zonal_mean.nc'}), ('INM-CM4-8', {'zonavg name': 'INM-CM4-8', 'zonavg path': '/work/users/guest/sbeltrami/zonal_mean/INM-CM4-8.nc', 'zonavg path remap': '/work/users/guest/sbeltrami/zonal_mean/INM-CM4-8_remapcon.nc', 'zonavg path remap zonal mean': '/work/users/guest/sbeltrami/zonal_mean/INM-CM4-8_zonal_mean.nc'}), ('INM-CM5-0', {'zonavg name': 'INM-CM5-0', 'zonavg path': '/work/users/guest/sbeltrami/zonal_mean/INM-CM5-0.nc', 'zonavg path remap': '/work/users/guest/sbeltrami/zonal_mean/INM-CM5-0_remapcon.nc', 'zonavg path remap zonal mean': '/work/users/guest/sbeltrami/zonal_mean/INM-CM5-0_zonal_mean.nc'}), ('IPSL-CM6A-LR', {'zonavg name': 'IPSL-CM6A-LR', 'zonavg path': '/work/users/guest/sbeltrami/zonal_mean/IPSL-CM6A-LR.nc', 'zonavg path remap': '/work/users/guest/sbeltrami/zonal_mean/IPSL-CM6A-LR_remapcon.nc', 'zonavg path remap zonal mean': '/work/users/guest/sbeltrami/zonal_mean/IPSL-CM6A-LR_zonal_mean.nc'}), ('MIROC6', {'zonavg name': 'MIROC6', 'zonavg path': '/work/users/guest/sbeltrami/zonal_mean/MIROC6.nc', 'zonavg path remap': '/work/users/guest/sbeltrami/zonal_mean/MIROC6_remapcon.nc', 'zonavg path remap zonal mean': '/work/users/guest/sbeltrami/zonal_mean/MIROC6_zonal_mean.nc'}), ('MPI-ESM1-2-HR', {'zonavg name': 'MPI-ESM1-2-HR', 'zonavg path': '/work/users/guest/sbeltrami/zonal_mean/MPI-ESM1-2-HR.nc', 'zonavg path remap': '/work/users/guest/sbeltrami/zonal_mean/MPI-ESM1-2-HR_remapcon.nc', 'zonavg path remap zonal mean': '/work/users/guest/sbeltrami/zonal_mean/MPI-ESM1-2-HR_zonal_mean.nc'}), ('MPI-ESM1-2-LR', {'zonavg name': 'MPI-ESM1-2-LR', 'zonavg path': '/work/users/guest/sbeltrami/zonal_mean/MPI-ESM1-2-LR.nc', 'zonavg path remap': '/work/users/guest/sbeltrami/zonal_mean/MPI-ESM1-2-LR_remapcon.nc', 'zonavg path remap zonal mean': '/work/users/guest/sbeltrami/zonal_mean/MPI-ESM1-2-LR_zonal_mean.nc'}), ('MRI-ESM2-0', {'zonavg name': 'MRI-ESM2-0', 'zonavg path': '/work/users/guest/sbeltrami/zonal_mean/MRI-ESM2-0.nc', 'zonavg path remap': '/work/users/guest/sbeltrami/zonal_mean/MRI-ESM2-0_remapcon.nc', 'zonavg path remap zonal mean': '/work/users/guest/sbeltrami/zonal_mean/MRI-ESM2-0_zonal_mean.nc'}), ('GISS-E2-1-G', {'zonavg name': 'GISS-E2-1-G', 'zonavg path': '/work/users/guest/sbeltrami/zonal_mean/GISS-E2-1-G.nc', 'zonavg path remap': '/work/users/guest/sbeltrami/zonal_mean/GISS-E2-1-G_remapcon.nc', 'zonavg path remap zonal mean': '/work/users/guest/sbeltrami/zonal_mean/GISS-E2-1-G_zonal_mean.nc'}), ('GISS-E2-1-G-CC', {'zonavg name': 'GISS-E2-1-G-CC', 'zonavg path': '/work/users/guest/sbeltrami/zonal_mean/GISS-E2-1-G-CC.nc', 'zonavg path remap': '/work/users/guest/sbeltrami/zonal_mean/GISS-E2-1-G-CC_remapcon.nc', 'zonavg path remap zonal mean': '/work/users/guest/sbeltrami/zonal_mean/GISS-E2-1-G-CC_zonal_mean.nc'}), ('GISS-E2-1-H', {'zonavg name': 'GISS-E2-1-H', 'zonavg path': '/work/users/guest/sbeltrami/zonal_mean/GISS-E2-1-H.nc', 'zonavg path remap': '/work/users/guest/sbeltrami/zonal_mean/GISS-E2-1-H_remapcon.nc', 'zonavg path remap zonal mean': '/work/users/guest/sbeltrami/zonal_mean/GISS-E2-1-H_zonal_mean.nc'}), ('CESM2', {'zonavg name': 'CESM2', 'zonavg path': '/work/users/guest/sbeltrami/zonal_mean/CESM2.nc', 'zonavg path remap': '/work/users/guest/sbeltrami/zonal_mean/CESM2_remapcon.nc', 'zonavg path remap zonal mean': '/work/users/guest/sbeltrami/zonal_mean/CESM2_zonal_mean.nc'}), ('CESM2-FV2', {'zonavg name': 'CESM2-FV2', 'zonavg path': '/work/users/guest/sbeltrami/zonal_mean/CESM2-FV2.nc', 'zonavg path remap': '/work/users/guest/sbeltrami/zonal_mean/CESM2-FV2_remapcon.nc', 'zonavg path remap zonal mean': '/work/users/guest/sbeltrami/zonal_mean/CESM2-FV2_zonal_mean.nc'}), ('CESM2-WACCM', {'zonavg name': 'CESM2-WACCM', 'zonavg path': '/work/users/guest/sbeltrami/zonal_mean/CESM2-WACCM.nc', 'zonavg path remap': '/work/users/guest/sbeltrami/zonal_mean/CESM2-WACCM_remapcon.nc', 'zonavg path remap zonal mean': '/work/users/guest/sbeltrami/zonal_mean/CESM2-WACCM_zonal_mean.nc'}), ('CESM2-WACCM-FV2', {'zonavg name': 'CESM2-WACCM-FV2', 'zonavg path': '/work/users/guest/sbeltrami/zonal_mean/CESM2-WACCM-FV2.nc', 'zonavg path remap': '/work/users/guest/sbeltrami/zonal_mean/CESM2-WACCM-FV2_remapcon.nc', 'zonavg path remap zonal mean': '/work/users/guest/sbeltrami/zonal_mean/CESM2-WACCM-FV2_zonal_mean.nc'}), ('NorESM2-LM', {'zonavg name': 'NorESM2-LM', 'zonavg path': '/work/users/guest/sbeltrami/zonal_mean/NorESM2-LM.nc', 'zonavg path remap': '/work/users/guest/sbeltrami/zonal_mean/NorESM2-LM_remapcon.nc', 'zonavg path remap zonal mean': '/work/users/guest/sbeltrami/zonal_mean/NorESM2-LM_zonal_mean.nc'}), ('NorESM2-MM', {'zonavg name': 'NorESM2-MM', 'zonavg path': '/work/users/guest/sbeltrami/zonal_mean/NorESM2-MM.nc', 'zonavg path remap': '/work/users/guest/sbeltrami/zonal_mean/NorESM2-MM_remapcon.nc', 'zonavg path remap zonal mean': '/work/users/guest/sbeltrami/zonal_mean/NorESM2-MM_zonal_mean.nc'}), ('GFDL-ESM4', {'zonavg name': 'GFDL-ESM4', 'zonavg path': '/work/users/guest/sbeltrami/zonal_mean/GFDL-ESM4.nc', 'zonavg path remap': '/work/users/guest/sbeltrami/zonal_mean/GFDL-ESM4_remapcon.nc', 'zonavg path remap zonal mean': '/work/users/guest/sbeltrami/zonal_mean/GFDL-ESM4_zonal_mean.nc'}), ('NESM3', {'zonavg name': 'NESM3', 'zonavg path': '/work/users/guest/sbeltrami/zonal_mean/NESM3.nc', 'zonavg path remap': '/work/users/guest/sbeltrami/zonal_mean/NESM3_remapcon.nc', 'zonavg path remap zonal mean': '/work/users/guest/sbeltrami/zonal_mean/NESM3_zonal_mean.nc'}), ('SAM0-UNICON', {'zonavg name': 'SAM0-UNICON', 'zonavg path': '/work/users/guest/sbeltrami/zonal_mean/SAM0-UNICON.nc', 'zonavg path remap': '/work/users/guest/sbeltrami/zonal_mean/SAM0-UNICON_remapcon.nc', 'zonavg path remap zonal mean': '/work/users/guest/sbeltrami/zonal_mean/SAM0-UNICON_zonal_mean.nc'}), ('MCM-UA-1-0', {'zonavg name': 'MCM-UA-1-0', 'zonavg path': '/work/users/guest/sbeltrami/zonal_mean/MCM-UA-1-0.nc', 'zonavg path remap': '/work/users/guest/sbeltrami/zonal_mean/MCM-UA-1-0_remapbil.nc', 'zonavg path remap zonal mean': '/work/users/guest/sbeltrami/zonal_mean/MCM-UA-1-0_zonal_mean.nc'})])"
      ]
     },
     "execution_count": 5,
     "metadata": {},
     "output_type": "execute_result"
    }
   ],
   "source": [
    "models_zonavg.items()"
   ]
  },
  {
   "cell_type": "code",
   "execution_count": 6,
   "metadata": {},
   "outputs": [
    {
     "name": "stdout",
     "output_type": "stream",
     "text": [
      "TaiESM1\n",
      "AWI-CM-1-1-MR\n",
      "AWI-ESM-1-1-LR\n",
      "BCC-CSM2-MR\n",
      "BCC-ESM1\n",
      "CAMS-CSM1-0\n",
      "CAS-ESM2-0\n",
      "FGOALS-g3\n",
      "CanESM5\n",
      "CMCC-CM2-SR5\n",
      "ACCESS-ESM1-5\n",
      "ACCESS-CM2\n",
      "E3SM-1-0\n",
      "EC-Earth3\n",
      "EC-Earth3-Veg\n",
      "FIO-ESM-2-0\n",
      "MPI-ESM-1-2-HAM\n",
      "INM-CM4-8\n",
      "INM-CM5-0\n",
      "IPSL-CM6A-LR\n",
      "MIROC6\n",
      "MPI-ESM1-2-HR\n",
      "MPI-ESM1-2-LR\n",
      "MRI-ESM2-0\n",
      "GISS-E2-1-G\n",
      "GISS-E2-1-G-CC\n",
      "GISS-E2-1-H\n",
      "CESM2\n",
      "CESM2-FV2\n",
      "CESM2-WACCM\n",
      "CESM2-WACCM-FV2\n",
      "NorESM2-LM\n",
      "NorESM2-MM\n",
      "GFDL-ESM4\n",
      "NESM3\n",
      "SAM0-UNICON\n",
      "MCM-UA-1-0\n"
     ]
    }
   ],
   "source": [
    "for name in models_zonavg.keys():\n",
    "    path_remap = models_zonavg[name]['zonavg path remap zonal mean'] #remap + zonavg\n",
    "    if os.path.exists(path_remap): #Se il file esiste\n",
    "        # Apro il dataset\n",
    "        models_zonavg[name]['zonavg dataset'] = xr.open_dataset(path_remap)\n",
    "        dataset = models_zonavg[name]['zonavg dataset']\n",
    "        #peso il dataset\n",
    "        models_zonavg[name]['zonavg dataset weighted'] = compute_dataset_weighted(dataset[\"ua\"])\n",
    "        #medie annuali con dataset pesato\n",
    "        models_zonavg[name]['zonavg dataset annual mean'] = compute_annual_mean_weighted(models_zonavg[name]['zonavg dataset weighted'])\n",
    "        print(models_zonavg[name]['zonavg name']) \n",
    "    else:\n",
    "        print(f\"Errore: Il file {path_remap} non esiste per il modello {name}\")"
   ]
  },
  {
   "cell_type": "code",
   "execution_count": null,
   "metadata": {},
   "outputs": [],
   "source": []
  }
 ],
 "metadata": {
  "kernelspec": {
   "display_name": "tesi",
   "language": "python",
   "name": "python3"
  },
  "language_info": {
   "codemirror_mode": {
    "name": "ipython",
    "version": 3
   },
   "file_extension": ".py",
   "mimetype": "text/x-python",
   "name": "python",
   "nbconvert_exporter": "python",
   "pygments_lexer": "ipython3",
   "version": "3.10.12"
  }
 },
 "nbformat": 4,
 "nbformat_minor": 2
}
