{
 "cells": [
  {
   "cell_type": "code",
   "execution_count": 1,
   "metadata": {},
   "outputs": [],
   "source": [
    "import xarray as xr\n",
    "import numpy as np\n",
    "import matplotlib.pyplot as plt\n",
    "import os\n",
    "from funzioni import compute_dataset_weighted\n",
    "from funzioni import compute_annual_mean_weighted\n",
    "from funzioni import convert_dataset_celsius\n",
    "from funzioni import compute_anomaly\n",
    "from funzioni import create_djf_dataset\n",
    "from funzioni import compute_mean_time_season\n",
    "from funzioni import compute_mean_resample_mar\n",
    "from funzioni import plot_bias_atmos\n",
    "from funzioni import plot_bias_tos\n",
    "from funzioni import plot_mean_cluster_atmos\n",
    "from funzioni import plot_bias_2_models_atmos\n",
    "from funzioni import plot_zonmean\n",
    "from funzioni import plot_zonmean_2_cluster\n",
    "from funzioni import plot_mean_cluster_zonmean\n",
    "import matplotlib.cm as cm\n",
    "import matplotlib.pyplot as plt\n",
    "import numpy as np\n",
    "import pylab as pl\n",
    "import plotly.express as px\n",
    "import dill\n",
    "import pickle\n",
    "import cartopy.crs as ccrs"
   ]
  },
  {
   "cell_type": "code",
   "execution_count": 2,
   "metadata": {},
   "outputs": [],
   "source": [
    "# creo un dizionario in cui andrò a mettere tutti i modelli dentro\n",
    "models_orog = {}"
   ]
  },
  {
   "cell_type": "code",
   "execution_count": 3,
   "metadata": {},
   "outputs": [],
   "source": [
    "#Percorso dei file\n",
    "name_models_orog = '/work/users/guest/sbeltrami/prova/orog_name_ok_model.txt'\n",
    "path_models_orog = '/work/users/guest/sbeltrami/prova/path_land_orog_model.txt'\n",
    "path_remap_models_orog = '/work/users/guest/sbeltrami/prova/path_remap_orog_model.txt'\n",
    "#path_zonal_model_models_orog = '/work/users/guest/sbeltrami/prova/path_orog_model.txt'\n",
    "# Apro i 3 file in modalità di lettura\n",
    "with open(name_models_orog, 'r') as file: #nome file\n",
    "    # Leggo tutte le righe del file e salvo in una lista\n",
    "    lines_name_models_orog = file.readlines()\n",
    "with open(path_models_orog, 'r') as file: #percorso dei file .nc\n",
    "    lines_path_models_orog = file.readlines()\n",
    "with open(path_remap_models_orog, 'r') as file: #percorso dei file remap\n",
    "    lines_path_remap_models_orog = file.readlines()\n",
    "#with open(path_zonal_model_models_orog, 'r') as file: #percorso dei file remap +zonmean\n",
    "#    lines_path_zonal_model_models_orog = file.readlines()"
   ]
  },
  {
   "cell_type": "code",
   "execution_count": 4,
   "metadata": {},
   "outputs": [],
   "source": [
    "# Itero su tutte le righe dei 3 file e organizzo i dati nel dizionario\n",
    "for line_name, line_path, line_path_remap in zip(lines_name_models_orog, lines_path_models_orog, lines_path_remap_models_orog): #zip per iterare sulle 3 liste contemporaneamente\n",
    "    model_name = line_name.strip() #senza spazi bianchi\n",
    "    #model_name è la chiave principale\n",
    "    # Inizializzo il dizionario se non esiste ancora\n",
    "    if model_name not in models_orog:\n",
    "        models_orog[model_name] = {}\n",
    "    # Aggiungo name, path, path remap come sottochiavi\n",
    "    models_orog[model_name]['orog name'] = model_name\n",
    "    models_orog[model_name]['orog path'] = line_path.strip()\n",
    "    models_orog[model_name]['orog path remap'] = line_path_remap.strip()"
   ]
  },
  {
   "cell_type": "code",
   "execution_count": 5,
   "metadata": {},
   "outputs": [
    {
     "data": {
      "text/plain": [
       "'/work/users/guest/sbeltrami/land_orog/ACCESS-CM2_remapcon.nc'"
      ]
     },
     "execution_count": 5,
     "metadata": {},
     "output_type": "execute_result"
    }
   ],
   "source": [
    "model_name = 'ACCESS-CM2'\n",
    "models_orog[model_name]['orog path remap']"
   ]
  },
  {
   "cell_type": "code",
   "execution_count": 6,
   "metadata": {},
   "outputs": [],
   "source": [
    "#REMAP\n",
    "for name in models_orog.keys():\n",
    "    path_remap = models_orog[name]['orog path remap'] #remap\n",
    "    if os.path.exists(path_remap): #Se il file esiste\n",
    "        # Apro il dataset\n",
    "        models_orog[name]['orog remap dataset'] = xr.open_dataset(path_remap)\n",
    "        dataset_remap = models_orog[name]['orog remap dataset']\n",
    "        #Seleziono la regione con le Montagne Rocciose per poter calcolare il valore massimo di altezza\n",
    "        # Seleziono la parte delle lon negative\n",
    "        lon_neg = dataset_remap.sel(lon=slice(235,260), lat=slice(20,60))\n",
    "        lon_neg = lon_neg.assign_coords(lon=(np.where(lon_neg.lon >= 236, lon_neg.lon - 360, lon_neg.lon)))\n",
    "        models_orog[name]['orog remap dataset'] = lon_neg\n",
    "    else:\n",
    "        print(f\"Errore: Il file {path_remap} non esiste per il modello {name}\")"
   ]
  },
  {
   "cell_type": "code",
   "execution_count": 11,
   "metadata": {},
   "outputs": [
    {
     "ename": "KeyError",
     "evalue": "\"'lon' is not a valid dimension or coordinate for Dataset with dimensions FrozenMappingWarningOnValuesAccess({'longitude': 96, 'bnds': 2, 'latitude': 80})\"",
     "output_type": "error",
     "traceback": [
      "\u001b[0;31m---------------------------------------------------------------------------\u001b[0m",
      "\u001b[0;31mKeyError\u001b[0m                                  Traceback (most recent call last)",
      "Cell \u001b[0;32mIn[11], line 10\u001b[0m\n\u001b[1;32m      7\u001b[0m dataset \u001b[38;5;241m=\u001b[39m models_orog[name][\u001b[38;5;124m'\u001b[39m\u001b[38;5;124morog dataset\u001b[39m\u001b[38;5;124m'\u001b[39m]\n\u001b[1;32m      8\u001b[0m \u001b[38;5;66;03m#Seleziono la regione con le Montagne Rocciose per poter calcolare il valore massimo di altezza\u001b[39;00m\n\u001b[1;32m      9\u001b[0m \u001b[38;5;66;03m# Seleziono la parte delle lon negative\u001b[39;00m\n\u001b[0;32m---> 10\u001b[0m lon_neg \u001b[38;5;241m=\u001b[39m \u001b[43mdataset\u001b[49m\u001b[38;5;241;43m.\u001b[39;49m\u001b[43msel\u001b[49m\u001b[43m(\u001b[49m\u001b[43mlon\u001b[49m\u001b[38;5;241;43m=\u001b[39;49m\u001b[38;5;28;43mslice\u001b[39;49m\u001b[43m(\u001b[49m\u001b[38;5;241;43m235\u001b[39;49m\u001b[43m,\u001b[49m\u001b[38;5;241;43m360\u001b[39;49m\u001b[43m)\u001b[49m\u001b[43m,\u001b[49m\u001b[43m \u001b[49m\u001b[43mlat\u001b[49m\u001b[38;5;241;43m=\u001b[39;49m\u001b[38;5;28;43mslice\u001b[39;49m\u001b[43m(\u001b[49m\u001b[38;5;241;43m20\u001b[39;49m\u001b[43m,\u001b[49m\u001b[38;5;241;43m60\u001b[39;49m\u001b[43m)\u001b[49m\u001b[43m)\u001b[49m\n\u001b[1;32m     11\u001b[0m lon_neg \u001b[38;5;241m=\u001b[39m lon_neg\u001b[38;5;241m.\u001b[39massign_coords(lon\u001b[38;5;241m=\u001b[39m(np\u001b[38;5;241m.\u001b[39mwhere(lon_neg\u001b[38;5;241m.\u001b[39mlon \u001b[38;5;241m>\u001b[39m\u001b[38;5;241m=\u001b[39m \u001b[38;5;241m236\u001b[39m, lon_neg\u001b[38;5;241m.\u001b[39mlon \u001b[38;5;241m-\u001b[39m \u001b[38;5;241m360\u001b[39m, lon_neg\u001b[38;5;241m.\u001b[39mlon)))\n\u001b[1;32m     12\u001b[0m models_orog[name][\u001b[38;5;124m'\u001b[39m\u001b[38;5;124morog dataset\u001b[39m\u001b[38;5;124m'\u001b[39m] \u001b[38;5;241m=\u001b[39m lon_neg\n",
      "File \u001b[0;32m~/work/sbeltrami/tesi/lib/python3.10/site-packages/xarray/core/dataset.py:3091\u001b[0m, in \u001b[0;36mDataset.sel\u001b[0;34m(self, indexers, method, tolerance, drop, **indexers_kwargs)\u001b[0m\n\u001b[1;32m   3023\u001b[0m \u001b[38;5;250m\u001b[39m\u001b[38;5;124;03m\"\"\"Returns a new dataset with each array indexed by tick labels\u001b[39;00m\n\u001b[1;32m   3024\u001b[0m \u001b[38;5;124;03malong the specified dimension(s).\u001b[39;00m\n\u001b[1;32m   3025\u001b[0m \n\u001b[0;32m   (...)\u001b[0m\n\u001b[1;32m   3088\u001b[0m \n\u001b[1;32m   3089\u001b[0m \u001b[38;5;124;03m\"\"\"\u001b[39;00m\n\u001b[1;32m   3090\u001b[0m indexers \u001b[38;5;241m=\u001b[39m either_dict_or_kwargs(indexers, indexers_kwargs, \u001b[38;5;124m\"\u001b[39m\u001b[38;5;124msel\u001b[39m\u001b[38;5;124m\"\u001b[39m)\n\u001b[0;32m-> 3091\u001b[0m query_results \u001b[38;5;241m=\u001b[39m \u001b[43mmap_index_queries\u001b[49m\u001b[43m(\u001b[49m\n\u001b[1;32m   3092\u001b[0m \u001b[43m    \u001b[49m\u001b[38;5;28;43mself\u001b[39;49m\u001b[43m,\u001b[49m\u001b[43m \u001b[49m\u001b[43mindexers\u001b[49m\u001b[38;5;241;43m=\u001b[39;49m\u001b[43mindexers\u001b[49m\u001b[43m,\u001b[49m\u001b[43m \u001b[49m\u001b[43mmethod\u001b[49m\u001b[38;5;241;43m=\u001b[39;49m\u001b[43mmethod\u001b[49m\u001b[43m,\u001b[49m\u001b[43m \u001b[49m\u001b[43mtolerance\u001b[49m\u001b[38;5;241;43m=\u001b[39;49m\u001b[43mtolerance\u001b[49m\n\u001b[1;32m   3093\u001b[0m \u001b[43m\u001b[49m\u001b[43m)\u001b[49m\n\u001b[1;32m   3095\u001b[0m \u001b[38;5;28;01mif\u001b[39;00m drop:\n\u001b[1;32m   3096\u001b[0m     no_scalar_variables \u001b[38;5;241m=\u001b[39m {}\n",
      "File \u001b[0;32m~/work/sbeltrami/tesi/lib/python3.10/site-packages/xarray/core/indexing.py:182\u001b[0m, in \u001b[0;36mmap_index_queries\u001b[0;34m(obj, indexers, method, tolerance, **indexers_kwargs)\u001b[0m\n\u001b[1;32m    179\u001b[0m     options \u001b[38;5;241m=\u001b[39m {\u001b[38;5;124m\"\u001b[39m\u001b[38;5;124mmethod\u001b[39m\u001b[38;5;124m\"\u001b[39m: method, \u001b[38;5;124m\"\u001b[39m\u001b[38;5;124mtolerance\u001b[39m\u001b[38;5;124m\"\u001b[39m: tolerance}\n\u001b[1;32m    181\u001b[0m indexers \u001b[38;5;241m=\u001b[39m either_dict_or_kwargs(indexers, indexers_kwargs, \u001b[38;5;124m\"\u001b[39m\u001b[38;5;124mmap_index_queries\u001b[39m\u001b[38;5;124m\"\u001b[39m)\n\u001b[0;32m--> 182\u001b[0m grouped_indexers \u001b[38;5;241m=\u001b[39m \u001b[43mgroup_indexers_by_index\u001b[49m\u001b[43m(\u001b[49m\u001b[43mobj\u001b[49m\u001b[43m,\u001b[49m\u001b[43m \u001b[49m\u001b[43mindexers\u001b[49m\u001b[43m,\u001b[49m\u001b[43m \u001b[49m\u001b[43moptions\u001b[49m\u001b[43m)\u001b[49m\n\u001b[1;32m    184\u001b[0m results \u001b[38;5;241m=\u001b[39m []\n\u001b[1;32m    185\u001b[0m \u001b[38;5;28;01mfor\u001b[39;00m index, labels \u001b[38;5;129;01min\u001b[39;00m grouped_indexers:\n",
      "File \u001b[0;32m~/work/sbeltrami/tesi/lib/python3.10/site-packages/xarray/core/indexing.py:143\u001b[0m, in \u001b[0;36mgroup_indexers_by_index\u001b[0;34m(obj, indexers, options)\u001b[0m\n\u001b[1;32m    141\u001b[0m     \u001b[38;5;28;01mraise\u001b[39;00m \u001b[38;5;167;01mKeyError\u001b[39;00m(\u001b[38;5;124mf\u001b[39m\u001b[38;5;124m\"\u001b[39m\u001b[38;5;124mno index found for coordinate \u001b[39m\u001b[38;5;132;01m{\u001b[39;00mkey\u001b[38;5;132;01m!r}\u001b[39;00m\u001b[38;5;124m\"\u001b[39m)\n\u001b[1;32m    142\u001b[0m \u001b[38;5;28;01melif\u001b[39;00m key \u001b[38;5;129;01mnot\u001b[39;00m \u001b[38;5;129;01min\u001b[39;00m obj\u001b[38;5;241m.\u001b[39mdims:\n\u001b[0;32m--> 143\u001b[0m     \u001b[38;5;28;01mraise\u001b[39;00m \u001b[38;5;167;01mKeyError\u001b[39;00m(\n\u001b[1;32m    144\u001b[0m         \u001b[38;5;124mf\u001b[39m\u001b[38;5;124m\"\u001b[39m\u001b[38;5;132;01m{\u001b[39;00mkey\u001b[38;5;132;01m!r}\u001b[39;00m\u001b[38;5;124m is not a valid dimension or coordinate for \u001b[39m\u001b[38;5;124m\"\u001b[39m\n\u001b[1;32m    145\u001b[0m         \u001b[38;5;124mf\u001b[39m\u001b[38;5;124m\"\u001b[39m\u001b[38;5;132;01m{\u001b[39;00mobj\u001b[38;5;241m.\u001b[39m\u001b[38;5;18m__class__\u001b[39m\u001b[38;5;241m.\u001b[39m\u001b[38;5;18m__name__\u001b[39m\u001b[38;5;132;01m}\u001b[39;00m\u001b[38;5;124m with dimensions \u001b[39m\u001b[38;5;132;01m{\u001b[39;00mobj\u001b[38;5;241m.\u001b[39mdims\u001b[38;5;132;01m!r}\u001b[39;00m\u001b[38;5;124m\"\u001b[39m\n\u001b[1;32m    146\u001b[0m     )\n\u001b[1;32m    147\u001b[0m \u001b[38;5;28;01melif\u001b[39;00m \u001b[38;5;28mlen\u001b[39m(options):\n\u001b[1;32m    148\u001b[0m     \u001b[38;5;28;01mraise\u001b[39;00m \u001b[38;5;167;01mValueError\u001b[39;00m(\n\u001b[1;32m    149\u001b[0m         \u001b[38;5;124mf\u001b[39m\u001b[38;5;124m\"\u001b[39m\u001b[38;5;124mcannot supply selection options \u001b[39m\u001b[38;5;132;01m{\u001b[39;00moptions\u001b[38;5;132;01m!r}\u001b[39;00m\u001b[38;5;124m for dimension \u001b[39m\u001b[38;5;132;01m{\u001b[39;00mkey\u001b[38;5;132;01m!r}\u001b[39;00m\u001b[38;5;124m\"\u001b[39m\n\u001b[1;32m    150\u001b[0m         \u001b[38;5;124m\"\u001b[39m\u001b[38;5;124mthat has no associated coordinate or index\u001b[39m\u001b[38;5;124m\"\u001b[39m\n\u001b[1;32m    151\u001b[0m     )\n",
      "\u001b[0;31mKeyError\u001b[0m: \"'lon' is not a valid dimension or coordinate for Dataset with dimensions FrozenMappingWarningOnValuesAccess({'longitude': 96, 'bnds': 2, 'latitude': 80})\""
     ]
    }
   ],
   "source": [
    "#NO remap\n",
    "for name in models_orog.keys():\n",
    "    path = models_orog[name]['orog path']\n",
    "    #if os.path.exists(path): #Se il file esiste\n",
    "    # Apro il dataset\n",
    "    models_orog[name]['orog dataset'] = xr.open_dataset(path)\n",
    "    dataset = models_orog[name]['orog dataset']\n",
    "    #Seleziono la regione con le Montagne Rocciose per poter calcolare il valore massimo di altezza\n",
    "    # Seleziono la parte delle lon negative\n",
    "    lon_neg = dataset.sel(lon=slice(235,360), lat=slice(20,60))\n",
    "    lon_neg = lon_neg.assign_coords(lon=(np.where(lon_neg.lon >= 236, lon_neg.lon - 360, lon_neg.lon)))\n",
    "    models_orog[name]['orog dataset'] = lon_neg\n",
    "    #else:\n",
    "    #    print(f\"Errore: Il file {path} non esiste per il modello {name}\")"
   ]
  },
  {
   "cell_type": "code",
   "execution_count": 12,
   "metadata": {},
   "outputs": [
    {
     "name": "stdout",
     "output_type": "stream",
     "text": [
      "TaiESM1 <bound method Mapping.values of <xarray.Dataset> Size: 4B\n",
      "Dimensions:  ()\n",
      "Data variables:\n",
      "    orog     float32 4B 2.486e+03>\n",
      "AWI-CM-1-1-MR <bound method Mapping.values of <xarray.Dataset> Size: 4B\n",
      "Dimensions:  ()\n",
      "Data variables:\n",
      "    orog     float32 4B 2.717e+03>\n",
      "AWI-ESM-1-1-LR <bound method Mapping.values of <xarray.Dataset> Size: 4B\n",
      "Dimensions:  ()\n",
      "Data variables:\n",
      "    orog     float32 4B 2.353e+03>\n",
      "CanESM5 <bound method Mapping.values of <xarray.Dataset> Size: 4B\n",
      "Dimensions:  ()\n",
      "Data variables:\n",
      "    orog     float32 4B 2.264e+03>\n",
      "CMCC-CM2-HR4 <bound method Mapping.values of <xarray.Dataset> Size: 4B\n",
      "Dimensions:  ()\n",
      "Data variables:\n",
      "    orog     float32 4B 2.692e+03>\n",
      "CMCC-CM2-SR5 <bound method Mapping.values of <xarray.Dataset> Size: 4B\n",
      "Dimensions:  ()\n",
      "Data variables:\n",
      "    orog     float32 4B 2.692e+03>\n",
      "CMCC-ESM2 <bound method Mapping.values of <xarray.Dataset> Size: 4B\n",
      "Dimensions:  ()\n",
      "Data variables:\n",
      "    orog     float32 4B 2.692e+03>\n",
      "ACCESS-ESM1-5 <bound method Mapping.values of <xarray.Dataset> Size: 4B\n",
      "Dimensions:  ()\n",
      "Data variables:\n",
      "    orog     float32 4B 2.385e+03>\n",
      "ACCESS-CM2 <bound method Mapping.values of <xarray.Dataset> Size: 4B\n",
      "Dimensions:  ()\n",
      "Data variables:\n",
      "    orog     float32 4B 2.488e+03>\n",
      "E3SM-1-0 <bound method Mapping.values of <xarray.Dataset> Size: 4B\n",
      "Dimensions:  ()\n",
      "Data variables:\n",
      "    orog     float32 4B 2.454e+03>\n",
      "EC-Earth3 <bound method Mapping.values of <xarray.Dataset> Size: 4B\n",
      "Dimensions:  ()\n",
      "Data variables:\n",
      "    orog     float32 4B 2.719e+03>\n",
      "MPI-ESM-1-2-HAM <bound method Mapping.values of <xarray.Dataset> Size: 4B\n",
      "Dimensions:  ()\n",
      "Data variables:\n",
      "    orog     float32 4B 2.353e+03>\n",
      "MIROC6 <bound method Mapping.values of <xarray.Dataset> Size: 4B\n",
      "Dimensions:  ()\n",
      "Data variables:\n",
      "    orog     float32 4B 2.378e+03>\n",
      "MPI-ESM1-2-HR <bound method Mapping.values of <xarray.Dataset> Size: 4B\n",
      "Dimensions:  ()\n",
      "Data variables:\n",
      "    orog     float32 4B 2.718e+03>\n",
      "MPI-ESM1-2-LR <bound method Mapping.values of <xarray.Dataset> Size: 4B\n",
      "Dimensions:  ()\n",
      "Data variables:\n",
      "    orog     float32 4B 2.353e+03>\n",
      "MRI-ESM2-0 <bound method Mapping.values of <xarray.Dataset> Size: 4B\n",
      "Dimensions:  ()\n",
      "Data variables:\n",
      "    orog     float32 4B 2.666e+03>\n",
      "CESM2 <bound method Mapping.values of <xarray.Dataset> Size: 4B\n",
      "Dimensions:  ()\n",
      "Data variables:\n",
      "    orog     float32 4B 2.517e+03>\n",
      "CESM2-FV2 <bound method Mapping.values of <xarray.Dataset> Size: 4B\n",
      "Dimensions:  ()\n",
      "Data variables:\n",
      "    orog     float32 4B 2.253e+03>\n",
      "CESM2-WACCM <bound method Mapping.values of <xarray.Dataset> Size: 4B\n",
      "Dimensions:  ()\n",
      "Data variables:\n",
      "    orog     float32 4B 2.517e+03>\n",
      "CESM2-WACCM-FV2 <bound method Mapping.values of <xarray.Dataset> Size: 4B\n",
      "Dimensions:  ()\n",
      "Data variables:\n",
      "    orog     float32 4B 2.253e+03>\n",
      "NorESM2-LM <bound method Mapping.values of <xarray.Dataset> Size: 4B\n",
      "Dimensions:  ()\n",
      "Data variables:\n",
      "    orog     float32 4B 2.253e+03>\n",
      "NorESM2-MM <bound method Mapping.values of <xarray.Dataset> Size: 4B\n",
      "Dimensions:  ()\n",
      "Data variables:\n",
      "    orog     float32 4B 2.517e+03>\n",
      "GFDL-CM4 <bound method Mapping.values of <xarray.Dataset> Size: 4B\n",
      "Dimensions:  ()\n",
      "Data variables:\n",
      "    orog     float32 4B 2.709e+03>\n",
      "GFDL-ESM4 <bound method Mapping.values of <xarray.Dataset> Size: 4B\n",
      "Dimensions:  ()\n",
      "Data variables:\n",
      "    orog     float32 4B 2.709e+03>\n",
      "SAM0-UNICON <bound method Mapping.values of <xarray.Dataset> Size: 4B\n",
      "Dimensions:  ()\n",
      "Data variables:\n",
      "    orog     float32 4B 2.487e+03>\n",
      "MCM-UA-1-0 <bound method Mapping.values of <xarray.Dataset> Size: 4B\n",
      "Dimensions:  ()\n",
      "Data variables:\n",
      "    orog     float32 4B 1.958e+03>\n"
     ]
    }
   ],
   "source": [
    "#Calcolo il valore massimo per ogni modello\n",
    "for name in models_orog.keys():\n",
    "    models_orog[name]['orog max value'] = models_orog[name]['orog remap dataset'].max().values\n",
    "    print(name,models_orog[name]['orog max value'])"
   ]
  },
  {
   "cell_type": "code",
   "execution_count": null,
   "metadata": {},
   "outputs": [],
   "source": []
  }
 ],
 "metadata": {
  "kernelspec": {
   "display_name": "tesi",
   "language": "python",
   "name": "python3"
  },
  "language_info": {
   "codemirror_mode": {
    "name": "ipython",
    "version": 3
   },
   "file_extension": ".py",
   "mimetype": "text/x-python",
   "name": "python",
   "nbconvert_exporter": "python",
   "pygments_lexer": "ipython3",
   "version": "3.10.12"
  }
 },
 "nbformat": 4,
 "nbformat_minor": 2
}
