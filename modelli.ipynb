{
 "cells": [
  {
   "cell_type": "markdown",
   "metadata": {},
   "source": [
    "Creo un dictionary in cui riporto tutti i modelli che andrò ad analizzare"
   ]
  },
  {
   "cell_type": "code",
   "execution_count": 20,
   "metadata": {},
   "outputs": [],
   "source": [
    "import xarray as xr\n",
    "import numpy as np\n",
    "import matplotlib.pyplot as plt\n",
    "import os\n",
    "#from cdo import *\n",
    "from funzioni import compute_dataset_weighted\n",
    "from funzioni import compute_annual_mean_weighted\n",
    "from funzioni import convert_dataset_celsius\n",
    "from funzioni import compute_anomaly\n",
    "from funzioni import create_djf_dataset\n",
    "from funzioni import compute_mean_time_season\n",
    "from funzioni import compute_mean_resample_mar"
   ]
  },
  {
   "cell_type": "code",
   "execution_count": 21,
   "metadata": {},
   "outputs": [],
   "source": [
    "#cdo = Cdo()"
   ]
  },
  {
   "cell_type": "code",
   "execution_count": 22,
   "metadata": {},
   "outputs": [],
   "source": [
    "# creo un dizionario in cui andrò a mettere tutti i modelli dentro\n",
    "models = {}"
   ]
  },
  {
   "cell_type": "code",
   "execution_count": 23,
   "metadata": {},
   "outputs": [],
   "source": [
    "#Costruisco il dizionario models con il nome del modello, il nomde del percorso di tutti i file *.nc di ogni modello e il nome di .nc, cioè il modello remapbil\n",
    "\n",
    "# percorso dei file model.txt e tos_nc_model.txt\n",
    "name_models = '/work/users/guest/sbeltrami/prova/name_ocean_model.txt'\n",
    "path_models = '/work/users/guest/sbeltrami/prova/path_ocean_model.txt'\n",
    "path_remap_models = '/work/users/guest/sbeltrami/prova/path_remap_ocean_model.txt'\n",
    "# Apro i file in modalità di lettura\n",
    "with open(name_models, 'r') as file:\n",
    "    # Leggo tutte le righe del file e salvo in una lista\n",
    "    lines_name_models = file.readlines()\n",
    "with open(path_models, 'r') as file:\n",
    "    # Leggo tutte le righe del file e salvo in una lista\n",
    "    lines_path_models = file.readlines()\n",
    "with open(path_remap_models, 'r') as file:\n",
    "    lines_path_remap_models = file.readlines()\n",
    "\n",
    "\n",
    "# Itero su tutte le righe e organizzo i dati nel dizionario\n",
    "for line_name, line_path, line_path_remap in zip(lines_name_models, lines_path_models, lines_path_remap_models):\n",
    "    model_name = line_name.strip()\n",
    "\n",
    "    # La chiave principale model_name deve essere presente nel dizionario\n",
    "    if model_name not in models:\n",
    "        models[model_name] = {}\n",
    "\n",
    "    # Aggiungo i dati come sottochiavi\n",
    "    models[model_name]['name'] = model_name\n",
    "    models[model_name]['path'] = line_path.strip()\n",
    "    models[model_name]['path remap'] = line_path_remap.strip()"
   ]
  },
  {
   "cell_type": "code",
   "execution_count": 24,
   "metadata": {},
   "outputs": [
    {
     "data": {
      "text/plain": [
       "dict_items([('name', 'TaiESM1'), ('path', '/work/users/guest/sbeltrami/TaiESM1.nc'), ('path remap', '/work/users/guest/sbeltrami/TaiESM1_remapcon.nc')])"
      ]
     },
     "execution_count": 24,
     "metadata": {},
     "output_type": "execute_result"
    }
   ],
   "source": [
    "models['TaiESM1'].items()"
   ]
  },
  {
   "cell_type": "code",
   "execution_count": 25,
   "metadata": {},
   "outputs": [
    {
     "name": "stdout",
     "output_type": "stream",
     "text": [
      "TaiESM1\n",
      "AWI-CM-1-1-MR\n",
      "AWI-ESM-1-1-LR\n",
      "BCC-CSM2-MR\n",
      "BCC-ESM1\n",
      "CAMS-CSM1-0\n",
      "CAS-ESM2-0\n",
      "FGOALS-f3-L\n",
      "FGOALS-g3\n",
      "CanESM5\n",
      "CMCC-CM2-SR5\n",
      "ACCESS-ESM1-5\n",
      "ACCESS-CM2\n",
      "E3SM-1-0\n",
      "E3SM-1-1\n",
      "E3SM-1-1-ECA\n",
      "EC-Earth3\n",
      "EC-Earth3-Veg\n",
      "FIO-ESM-2-0\n",
      "MPI-ESM-1-2-HAM\n",
      "INM-CM4-8\n",
      "INM-CM5-0\n",
      "IPSL-CM6A-LR\n",
      "MIROC6\n",
      "MPI-ESM1-2-HR\n",
      "MPI-ESM1-2-LR\n",
      "MRI-ESM2-0\n",
      "GISS-E2-1-G\n",
      "GISS-E2-1-G-CC\n",
      "GISS-E2-1-H\n",
      "CESM2\n",
      "CESM2-FV2\n",
      "CESM2-WACCM\n",
      "CESM2-WACCM-FV2\n",
      "NorCPM1\n",
      "NorESM2-LM\n",
      "NorESM2-MM\n",
      "GFDL-CM4\n",
      "GFDL-ESM4\n",
      "NESM3\n",
      "SAM0-UNICON\n",
      "Problema da risolvere con CIESM: ValueError: index must be monotonic for resampling\n",
      "MCM-UA-1-0\n"
     ]
    }
   ],
   "source": [
    "count = 0 #conteggio dei file che non si possono aprire\n",
    "count_ok = 0 #conteggio dei file che apro\n",
    "\n",
    "for name in models.keys():\n",
    "    # Verifica se il file NetCDF esiste\n",
    "    path_remap = models[name]['path remap']\n",
    "    if os.path.exists(path_remap):\n",
    "        # Se il file esiste, apri il dataset con xarray\n",
    "        dataset = xr.open_dataset(path_remap)\n",
    "        models[name]['dataset'] = dataset\n",
    "        #print(f\"Dataset aperto con successo per il modello {name}\")\n",
    "        #peso il dataset\n",
    "        models[name]['dataset weighted'] = compute_dataset_weighted(dataset[\"tos\"])\n",
    "        #medie annuali con dataset pesato\n",
    "        if name == 'CIESM': #da modificare!!\n",
    "            print(\"Problema da risolvere con CIESM: ValueError: index must be monotonic for resampling\")\n",
    "        else:\n",
    "            models[name]['dataset annual mean'] = compute_annual_mean_weighted(models[name]['dataset weighted'])\n",
    "            print(models[name]['name']) \n",
    "\n",
    "            #Risolvi il problema con CIESM e poi metti tutto insieme\n",
    "            #Seleziono il box del Nord Atlantico\n",
    "            na_box = dataset.sel(lon=slice(260,360), lat=slice(30,70))\n",
    "            models[name]['Nord Atlantic box'] = na_box\n",
    "            #peso il dataset Nord Atlantico\n",
    "            models[name]['Nord Atlantic dataset weighted'] = compute_dataset_weighted(na_box[\"tos\"])\n",
    "            #calcolo la media annuale del dataset Nord Atlantico\n",
    "            models[name]['Nord Atlantic annual mean weighted'] = compute_annual_mean_weighted(models[name]['Nord Atlantic dataset weighted'])\n",
    "            #Seleziono la climatologia\n",
    "            na_box_climat = na_box.sel(time=slice(\"1984-01\", \"2014-12\"))\n",
    "            #peso il dataset del periodo scelto per la climatologia\n",
    "            models[name]['Nord Atlantic climatology weighted'] = compute_dataset_weighted(na_box_climat[\"tos\"])\n",
    "            #calcolo la media annuale del dataset na sul periodo scelto\n",
    "            models[name]['Nord Atlantic annual mean climatology'] = compute_annual_mean_weighted(models[name]['Nord Atlantic climatology weighted'])\n",
    "            #Calcolo l'anomalia di tos rispetto alla climatologia scelta\n",
    "            models[name]['Nord Atlantic anomaly'] = compute_anomaly(models[name]['Nord Atlantic annual mean weighted'],models[name]['Nord Atlantic annual mean climatology'])\n",
    "\n",
    "        count_ok = count_ok + 1\n",
    "    else:\n",
    "        print(f\"Errore: Il file {path_remap} non esiste per il modello {name}\")\n",
    "\n",
    "        count = count + 1"
   ]
  },
  {
   "cell_type": "code",
   "execution_count": 26,
   "metadata": {},
   "outputs": [
    {
     "data": {
      "text/plain": [
       "dict_keys(['name', 'path', 'path remap', 'dataset', 'dataset weighted', 'dataset annual mean', 'Nord Atlantic box', 'Nord Atlantic dataset weighted', 'Nord Atlantic annual mean weighted', 'Nord Atlantic climatology weighted', 'Nord Atlantic annual mean climatology', 'Nord Atlantic anomaly'])"
      ]
     },
     "execution_count": 26,
     "metadata": {},
     "output_type": "execute_result"
    }
   ],
   "source": [
    "models['TaiESM1'].keys()"
   ]
  },
  {
   "cell_type": "code",
   "execution_count": 27,
   "metadata": {},
   "outputs": [
    {
     "data": {
      "text/plain": [
       "43"
      ]
     },
     "execution_count": 27,
     "metadata": {},
     "output_type": "execute_result"
    }
   ],
   "source": [
    "len(models)"
   ]
  },
  {
   "cell_type": "markdown",
   "metadata": {},
   "source": [
    "Nord Atlantico anomalie - Dataset ESA-CCI"
   ]
  },
  {
   "cell_type": "code",
   "execution_count": 28,
   "metadata": {},
   "outputs": [
    {
     "data": {
      "text/plain": [
       "Text(0.5, 0.98, 'Anomalia Nord Atlantico ESA rispetto alla media climatologica 1984 - 2014')"
      ]
     },
     "execution_count": 28,
     "metadata": {},
     "output_type": "execute_result"
    },
    {
     "data": {
      "image/png": "[encoded data removed]",
      "text/plain": [
       "<Figure size 432x288 with 1 Axes>"
      ]
     },
     "metadata": {
      "needs_background": "light"
     },
     "output_type": "display_data"
    }
   ],
   "source": [
    "#ESA-CCI box Nord Atlantico\n",
    "dataset_ESA_na=xr.open_dataset('/work/users/guest/sbeltrami/prova/ESA-CCI_SST_remap.nc').sel(lon=slice(260,360), lat=slice(30,70)) #seleziono lon lat del Nord Atlantico\n",
    "dataset_ESA_na_celsius = convert_dataset_celsius(dataset_ESA_na[\"analysed_sst\"]) #converto in °C\n",
    "#dataset pesato\n",
    "dataset_ESA_weighted_na = compute_dataset_weighted(dataset_ESA_na_celsius)\n",
    "#media annuale Nord Atlantico\n",
    "annual_mean_esa_na = compute_annual_mean_weighted(dataset_ESA_weighted_na)\n",
    "#Scelgo periodo su cui calcolare la climatologia\n",
    "esa_na_1984_2014 = dataset_ESA_na_celsius.sel(time=slice(\"1984-01\", \"2014-12\"))\n",
    "#peso il dataset del periodo scelto\n",
    "esa_na_1984_2014_weighted = compute_dataset_weighted(esa_na_1984_2014)\n",
    "#calcolo la media annuale sul periodo scelto\n",
    "annual_mean_esa_na_30 = compute_annual_mean_weighted(esa_na_1984_2014_weighted)\n",
    "#Calcolo l'anomalia di tos rispetto al periodo di riferimento scelto\n",
    "anomaly_esa = compute_anomaly(annual_mean_esa_na,annual_mean_esa_na_30)\n",
    "#plot\n",
    "anomaly_esa.plot()\n",
    "plt.suptitle('Anomalia Nord Atlantico ESA rispetto alla media climatologica 1984 - 2014')"
   ]
  },
  {
   "cell_type": "markdown",
   "metadata": {},
   "source": [
    "Plot anomalia Nord Atlantico modelli e dataset ESA-CCI"
   ]
  },
  {
   "cell_type": "code",
   "execution_count": 29,
   "metadata": {},
   "outputs": [
    {
     "ename": "ImportError",
     "evalue": "Plotting of arrays of cftime.datetime objects or arrays indexed by cftime.datetime objects requires the optional `nc-time-axis` (v1.2.0 or later) package.",
     "output_type": "error",
     "traceback": [
      "\u001b[0;31m---------------------------------------------------------------------------\u001b[0m",
      "\u001b[0;31mImportError\u001b[0m                               Traceback (most recent call last)",
      "\u001b[0;32m/tmp/ipykernel_3268138/1151687480.py\u001b[0m in \u001b[0;36m<module>\u001b[0;34m\u001b[0m\n\u001b[1;32m     11\u001b[0m \u001b[0;31m# Plot dei modelli\u001b[0m\u001b[0;34m\u001b[0m\u001b[0;34m\u001b[0m\u001b[0m\n\u001b[1;32m     12\u001b[0m \u001b[0;32mfor\u001b[0m \u001b[0mname\u001b[0m \u001b[0;32min\u001b[0m \u001b[0mmodels\u001b[0m\u001b[0;34m.\u001b[0m\u001b[0mkeys\u001b[0m\u001b[0;34m(\u001b[0m\u001b[0;34m)\u001b[0m\u001b[0;34m:\u001b[0m\u001b[0;34m\u001b[0m\u001b[0;34m\u001b[0m\u001b[0m\n\u001b[0;32m---> 13\u001b[0;31m     \u001b[0mmodels\u001b[0m\u001b[0;34m[\u001b[0m\u001b[0mname\u001b[0m\u001b[0;34m]\u001b[0m\u001b[0;34m[\u001b[0m\u001b[0;34m'Nord Atlantic anomaly'\u001b[0m\u001b[0;34m]\u001b[0m\u001b[0;34m.\u001b[0m\u001b[0mplot\u001b[0m\u001b[0;34m.\u001b[0m\u001b[0mline\u001b[0m\u001b[0;34m(\u001b[0m\u001b[0mx\u001b[0m\u001b[0;34m=\u001b[0m\u001b[0;34m'time'\u001b[0m\u001b[0;34m,\u001b[0m \u001b[0mlabel\u001b[0m\u001b[0;34m=\u001b[0m\u001b[0mname\u001b[0m\u001b[0;34m,\u001b[0m \u001b[0max\u001b[0m\u001b[0;34m=\u001b[0m\u001b[0max\u001b[0m\u001b[0;34m)\u001b[0m\u001b[0;34m\u001b[0m\u001b[0;34m\u001b[0m\u001b[0m\n\u001b[0m\u001b[1;32m     14\u001b[0m \u001b[0;34m\u001b[0m\u001b[0m\n\u001b[1;32m     15\u001b[0m \u001b[0;31m# Mostra la legenda\u001b[0m\u001b[0;34m\u001b[0m\u001b[0;34m\u001b[0m\u001b[0m\n",
      "\u001b[0;32m/usr/lib/python3/dist-packages/xarray/plot/plot.py\u001b[0m in \u001b[0;36mline\u001b[0;34m(self, *args, **kwargs)\u001b[0m\n\u001b[1;32m    877\u001b[0m     \u001b[0;34m@\u001b[0m\u001b[0mfunctools\u001b[0m\u001b[0;34m.\u001b[0m\u001b[0mwraps\u001b[0m\u001b[0;34m(\u001b[0m\u001b[0mline\u001b[0m\u001b[0;34m)\u001b[0m\u001b[0;34m\u001b[0m\u001b[0;34m\u001b[0m\u001b[0m\n\u001b[1;32m    878\u001b[0m     \u001b[0;32mdef\u001b[0m \u001b[0mline\u001b[0m\u001b[0;34m(\u001b[0m\u001b[0mself\u001b[0m\u001b[0;34m,\u001b[0m \u001b[0;34m*\u001b[0m\u001b[0margs\u001b[0m\u001b[0;34m,\u001b[0m \u001b[0;34m**\u001b[0m\u001b[0mkwargs\u001b[0m\u001b[0;34m)\u001b[0m\u001b[0;34m:\u001b[0m\u001b[0;34m\u001b[0m\u001b[0;34m\u001b[0m\u001b[0m\n\u001b[0;32m--> 879\u001b[0;31m         \u001b[0;32mreturn\u001b[0m \u001b[0mline\u001b[0m\u001b[0;34m(\u001b[0m\u001b[0mself\u001b[0m\u001b[0;34m.\u001b[0m\u001b[0m_da\u001b[0m\u001b[0;34m,\u001b[0m \u001b[0;34m*\u001b[0m\u001b[0margs\u001b[0m\u001b[0;34m,\u001b[0m \u001b[0;34m**\u001b[0m\u001b[0mkwargs\u001b[0m\u001b[0;34m)\u001b[0m\u001b[0;34m\u001b[0m\u001b[0;34m\u001b[0m\u001b[0m\n\u001b[0m\u001b[1;32m    880\u001b[0m \u001b[0;34m\u001b[0m\u001b[0m\n\u001b[1;32m    881\u001b[0m     \u001b[0;34m@\u001b[0m\u001b[0mfunctools\u001b[0m\u001b[0;34m.\u001b[0m\u001b[0mwraps\u001b[0m\u001b[0;34m(\u001b[0m\u001b[0mstep\u001b[0m\u001b[0;34m)\u001b[0m\u001b[0;34m\u001b[0m\u001b[0;34m\u001b[0m\u001b[0m\n",
      "\u001b[0;32m/usr/lib/python3/dist-packages/xarray/plot/plot.py\u001b[0m in \u001b[0;36mline\u001b[0;34m(darray, row, col, figsize, aspect, size, ax, hue, x, y, xincrease, yincrease, xscale, yscale, xticks, yticks, xlim, ylim, add_legend, _labels, *args, **kwargs)\u001b[0m\n\u001b[1;32m    436\u001b[0m     \u001b[0mylabel\u001b[0m \u001b[0;34m=\u001b[0m \u001b[0mlabel_from_attrs\u001b[0m\u001b[0;34m(\u001b[0m\u001b[0myplt\u001b[0m\u001b[0;34m,\u001b[0m \u001b[0mextra\u001b[0m\u001b[0;34m=\u001b[0m\u001b[0my_suffix\u001b[0m\u001b[0;34m)\u001b[0m\u001b[0;34m\u001b[0m\u001b[0;34m\u001b[0m\u001b[0m\n\u001b[1;32m    437\u001b[0m \u001b[0;34m\u001b[0m\u001b[0m\n\u001b[0;32m--> 438\u001b[0;31m     \u001b[0m_ensure_plottable\u001b[0m\u001b[0;34m(\u001b[0m\u001b[0mxplt_val\u001b[0m\u001b[0;34m,\u001b[0m \u001b[0myplt_val\u001b[0m\u001b[0;34m)\u001b[0m\u001b[0;34m\u001b[0m\u001b[0;34m\u001b[0m\u001b[0m\n\u001b[0m\u001b[1;32m    439\u001b[0m \u001b[0;34m\u001b[0m\u001b[0m\n\u001b[1;32m    440\u001b[0m     \u001b[0mprimitive\u001b[0m \u001b[0;34m=\u001b[0m \u001b[0max\u001b[0m\u001b[0;34m.\u001b[0m\u001b[0mplot\u001b[0m\u001b[0;34m(\u001b[0m\u001b[0mxplt_val\u001b[0m\u001b[0;34m,\u001b[0m \u001b[0myplt_val\u001b[0m\u001b[0;34m,\u001b[0m \u001b[0;34m*\u001b[0m\u001b[0margs\u001b[0m\u001b[0;34m,\u001b[0m \u001b[0;34m**\u001b[0m\u001b[0mkwargs\u001b[0m\u001b[0;34m)\u001b[0m\u001b[0;34m\u001b[0m\u001b[0;34m\u001b[0m\u001b[0m\n",
      "\u001b[0;32m/usr/lib/python3/dist-packages/xarray/plot/utils.py\u001b[0m in \u001b[0;36m_ensure_plottable\u001b[0;34m(*args)\u001b[0m\n\u001b[1;32m    646\u001b[0m             \u001b[0;32mand\u001b[0m \u001b[0;32mnot\u001b[0m \u001b[0mnc_time_axis_available\u001b[0m\u001b[0;34m\u001b[0m\u001b[0;34m\u001b[0m\u001b[0m\n\u001b[1;32m    647\u001b[0m         ):\n\u001b[0;32m--> 648\u001b[0;31m             raise ImportError(\n\u001b[0m\u001b[1;32m    649\u001b[0m                 \u001b[0;34m\"Plotting of arrays of cftime.datetime \"\u001b[0m\u001b[0;34m\u001b[0m\u001b[0;34m\u001b[0m\u001b[0m\n\u001b[1;32m    650\u001b[0m                 \u001b[0;34m\"objects or arrays indexed by \"\u001b[0m\u001b[0;34m\u001b[0m\u001b[0;34m\u001b[0m\u001b[0m\n",
      "\u001b[0;31mImportError\u001b[0m: Plotting of arrays of cftime.datetime objects or arrays indexed by cftime.datetime objects requires the optional `nc-time-axis` (v1.2.0 or later) package."
     ]
    },
    {
     "data": {
      "image/png": "[encoded data removed]",
      "text/plain": [
       "<Figure size 576x288 with 1 Axes>"
      ]
     },
     "metadata": {
      "needs_background": "light"
     },
     "output_type": "display_data"
    }
   ],
   "source": [
    "#Nord Atlantico\n",
    "#Plot delle anomalie dei 3 modelli e di ESA su periodo di riferimento 1984-2014\n",
    "fig, ax = plt.subplots(figsize=(8, 4))\n",
    "\n",
    "# Titolo della figura\n",
    "fig.suptitle('Anomalie modelli e ESA rispetto alla climatologia di 1984 - 2014, regione Nord Atlantico')\n",
    "\n",
    "# Plot della anomalia di ESA-CCI\n",
    "anomaly_esa.plot.line(x='time', label='ESA-CCI', ax=ax)\n",
    "\n",
    "# Plot dei modelli\n",
    "for name in models.keys():\n",
    "    models[name]['Nord Atlantic anomaly'].plot.line(x='time', label=name, ax=ax)\n",
    "\n",
    "# Mostra la legenda\n",
    "plt.legend()\n",
    "\n",
    "# Mostra il grafico\n",
    "plt.show()\n"
   ]
  },
  {
   "cell_type": "markdown",
   "metadata": {},
   "source": [
    "Bias : Medie stagionali (modello - osservazioni), con media climatologica delle osservazioni su periodo 1983 - 2014"
   ]
  },
  {
   "cell_type": "markdown",
   "metadata": {},
   "source": [
    "Dataset ESA-CCI"
   ]
  },
  {
   "cell_type": "code",
   "execution_count": null,
   "metadata": {},
   "outputs": [],
   "source": [
    "#Creo un dizionario in cui vado a mettere la media temporale per ogni stagione MAM, JJA, SON, DJF\n",
    "esa_na_seas_mean = {}"
   ]
  },
  {
   "cell_type": "code",
   "execution_count": null,
   "metadata": {},
   "outputs": [],
   "source": [
    "#Calcolo la media temporale su tutti e 4 i trimestri MAM = 1, JJA = 2, SON = 3, DJF = 4\n",
    "for i in range(4):\n",
    "    esa_na_seas_mean[i+1] = compute_mean_resample_mar(dataset_ESA_na_celsius,\"1983\",\"2014\",i)"
   ]
  },
  {
   "cell_type": "code",
   "execution_count": null,
   "metadata": {},
   "outputs": [
    {
     "data": {
      "text/plain": [
       "dict_keys([1, 2, 3, 4])"
      ]
     },
     "execution_count": 8,
     "metadata": {},
     "output_type": "execute_result"
    }
   ],
   "source": [
    "esa_na_seas_mean.keys()"
   ]
  },
  {
   "cell_type": "code",
   "execution_count": null,
   "metadata": {},
   "outputs": [
    {
     "data": {
      "text/plain": [
       "dict_keys(['name', 'path', 'path remap', 'dataset', 'dataset weighted', 'dataset annual mean', 'Nord Atlantic box', 'Nord Atlantic dataset weighted', 'Nord Atlantic annual mean weighted', 'Nord Atlantic climatology weighted', 'Nord Atlantic annual mean climatology', 'Nord Atlantic anomaly'])"
      ]
     },
     "execution_count": 10,
     "metadata": {},
     "output_type": "execute_result"
    }
   ],
   "source": [
    "models['TaiESM1'].keys()"
   ]
  },
  {
   "cell_type": "markdown",
   "metadata": {},
   "source": [
    "Modelli"
   ]
  },
  {
   "cell_type": "code",
   "execution_count": null,
   "metadata": {},
   "outputs": [
    {
     "name": "stdout",
     "output_type": "stream",
     "text": [
      "Errore da risolvere con CIESM\n"
     ]
    }
   ],
   "source": [
    "#Bias modelli\n",
    "for name in models:\n",
    "    if name == 'CIESM':\n",
    "        print(\"Errore da risolvere con CIESM\")\n",
    "    else:\n",
    "        #Seleziono il box Nord Atlantico\n",
    "        na_box = models[name]['Nord Atlantic box']\n",
    "        #media temporale delle stagioni MAM, JJA, SON\n",
    "        for i in range(4): # ciclo su tutte le stagioni\n",
    "            #Calcolo la media temporale per ogni stagione dei modelli, per un anno --> da aggiungere anni!\n",
    "            model_na_seas_mean = compute_mean_resample_mar(na_box[\"tos\"],\"1984-03\",\"1985-02\",i)\n",
    "            #Calcolo il bias modelli - dataset\n",
    "            if (i+1) == 1: # MAM\n",
    "                models[name]['Nord Atlantic bias MAM'] = model_na_seas_mean - esa_na_seas_mean[i+1]\n",
    "            elif (i+1) == 2 : # JJA\n",
    "                models[name]['Nord Atlantic bias MAM'] = model_na_seas_mean - esa_na_seas_mean[i+1]\n",
    "            elif (i+1) == 3 : #SON\n",
    "                models[name]['Nord Atlantic bias SON'] = model_na_seas_mean - esa_na_seas_mean[i+1]\n",
    "            elif (i+1) == 4 : #DJF\n",
    "                models[name]['Nord Atlantic bias DJF'] = model_na_seas_mean - esa_na_seas_mean[i+1]"
   ]
  },
  {
   "cell_type": "code",
   "execution_count": null,
   "metadata": {},
   "outputs": [
    {
     "data": {
      "text/plain": [
       "<matplotlib.collections.QuadMesh at 0x7fc3379d54b0>"
      ]
     },
     "execution_count": 17,
     "metadata": {},
     "output_type": "execute_result"
    },
    {
     "data": {
      "image/png": "[encoded data removed]",
      "text/plain": [
       "<Figure size 432x288 with 2 Axes>"
      ]
     },
     "metadata": {
      "needs_background": "light"
     },
     "output_type": "display_data"
    }
   ],
   "source": [
    "models['TaiESM1']['Nord Atlantic bias DJF'].plot()"
   ]
  },
  {
   "cell_type": "code",
   "execution_count": null,
   "metadata": {},
   "outputs": [
    {
     "data": {
      "text/plain": [
       "<matplotlib.collections.QuadMesh at 0x7fc3375a91b0>"
      ]
     },
     "execution_count": 18,
     "metadata": {},
     "output_type": "execute_result"
    },
    {
     "data": {
      "image/png": "[encoded data removed]",
      "text/plain": [
       "<Figure size 432x288 with 2 Axes>"
      ]
     },
     "metadata": {
      "needs_background": "light"
     },
     "output_type": "display_data"
    }
   ],
   "source": [
    "models['AWI-CM-1-1-MR']['Nord Atlantic bias DJF'].plot()"
   ]
  },
  {
   "cell_type": "code",
   "execution_count": null,
   "metadata": {},
   "outputs": [
    {
     "data": {
      "text/plain": [
       "<matplotlib.collections.QuadMesh at 0x7fc337478160>"
      ]
     },
     "execution_count": 19,
     "metadata": {},
     "output_type": "execute_result"
    },
    {
     "data": {
      "image/png": "[encoded data removed]",
      "text/plain": [
       "<Figure size 432x288 with 2 Axes>"
      ]
     },
     "metadata": {
      "needs_background": "light"
     },
     "output_type": "display_data"
    }
   ],
   "source": [
    "models['EC-Earth3']['Nord Atlantic bias DJF'].plot()"
   ]
  },
  {
   "cell_type": "markdown",
   "metadata": {},
   "source": [
    "prova con soli 3 modelli"
   ]
  },
  {
   "cell_type": "code",
   "execution_count": null,
   "metadata": {},
   "outputs": [],
   "source": [
    "models = { 'Ec-Earth3':\n",
    "                    {'path': '/work/users/guest/sbeltrami/tostest.nc',\n",
    "                     },\n",
    "            'IPSL-CM6A-LR':\n",
    "                    {'path': '/work/users/guest/sbeltrami/tostest_ipsl.nc',\n",
    "                     },\n",
    "            'MPI-ESM1-2-HR':\n",
    "                    {'path': '/work/users/guest/sbeltrami/tostest_mpi.nc',\n",
    "                     }\n",
    "         }"
   ]
  },
  {
   "cell_type": "code",
   "execution_count": null,
   "metadata": {},
   "outputs": [],
   "source": [
    "for name in models.keys():\n",
    "    #apertura modelli\n",
    "    dataset = xr.open_dataset(models[name]['path'])\n",
    "    #peso il dataset\n",
    "    models[name]['dataset weighted'] = compute_dataset_weighted(dataset[\"tos\"])\n",
    "    #medie annuali con dataset pesato\n",
    "    models[name]['annual mean'] = compute_annual_mean_weighted(models[name]['dataset weighted'])\n"
   ]
  },
  {
   "cell_type": "code",
   "execution_count": null,
   "metadata": {},
   "outputs": [
    {
     "data": {
      "text/plain": [
       "dict_keys(['path', 'dataset weighted', 'annual mean'])"
      ]
     },
     "execution_count": 9,
     "metadata": {},
     "output_type": "execute_result"
    }
   ],
   "source": [
    "models['Ec-Earth3'].keys()"
   ]
  },
  {
   "cell_type": "code",
   "execution_count": null,
   "metadata": {},
   "outputs": [],
   "source": [
    "models['Ec-Earth3'].items()"
   ]
  },
  {
   "cell_type": "markdown",
   "metadata": {},
   "source": [
    "Prova bias metodo + lungo"
   ]
  },
  {
   "cell_type": "code",
   "execution_count": null,
   "metadata": {},
   "outputs": [],
   "source": [
    "dataset_ESA_na_celsius_period = dataset_ESA_na_celsius.sel(time=slice(\"1983-12\",\"2014-11\"))\n",
    "#dizionario in cui metto la media temporale delle stagioni per il dataset esa\n",
    "esa_na_seas_mean = {}\n",
    "#Dataset ESA-CCI: calcolo della media temporale per le stagioni MAM, JJA, SON\n",
    "for seas in ['MAM','JJA','SON']:\n",
    "    esa_na_seas_mean[seas] = compute_mean_time_season(dataset_ESA_na_celsius_period,seas)\n",
    "#Dataset ESA-CCI: seleziona dicembre dell'anno precedente e gennaio/ febbraio dell'anno successivo e calcolo la media sul tempo\n",
    "esa_na_seas_mean['DJF'] = create_djf_dataset(dataset_ESA_na_celsius_period,1983).mean(dim='time')\n",
    "#esa_na_seas_mean['MAM'].keys()\n",
    "type(esa_na_seas_mean)\n",
    "esa_na_seas_mean['DJF']"
   ]
  },
  {
   "cell_type": "code",
   "execution_count": null,
   "metadata": {},
   "outputs": [],
   "source": [
    "#Bias modelli\n",
    "for name in models:\n",
    "    #Seleziono l'anno su cui voglio calcolare il bias di tos\n",
    "    dataset = xr.open_dataset(models[name]['path remap'])\n",
    "    #Seleziono il box del Nord Atlantico\n",
    "    na_box = dataset.sel(lon=slice(260,360), lat=slice(30,70))\n",
    "    period = na_box[\"tos\"].sel(time=slice(\"1983-12\",\"1984-11\"))\n",
    "    if name == 'CIESM':\n",
    "        print(\"Errore da risolvere con CIESM\")\n",
    "    else:\n",
    "        #media temporale delle stagioni MAM, JJA, SON\n",
    "        for seas in ['MAM','JJA','SON']:\n",
    "            model_na_seas_mean = compute_mean_time_season(period,seas)\n",
    "            if seas == 'MAM':\n",
    "                models[name]['Nord Atlantic bias MAM'] = model_na_seas_mean - esa_na_seas_mean[seas]\n",
    "            elif seas == 'JJA':\n",
    "                models[name]['Nord Atlantic bias JJA'] = model_na_seas_mean - esa_na_seas_mean[seas]\n",
    "            elif seas == 'SON':\n",
    "                models[name]['Nord Atlantic bias SON'] = model_na_seas_mean - esa_na_seas_mean[seas]\n",
    "        #media temporale per DJF\n",
    "        model_na_djf_mean = create_djf_dataset(period,1983).mean(dim='time')\n",
    "        models[name]['Nord Atlantic bias DJF'] = model_na_djf_mean - esa_na_seas_mean['DJF']\n",
    "\n"
   ]
  }
 ],
 "metadata": {
  "kernelspec": {
   "display_name": "Python 3",
   "language": "python",
   "name": "python3"
  },
  "language_info": {
   "codemirror_mode": {
    "name": "ipython",
    "version": 3
   },
   "file_extension": ".py",
   "mimetype": "text/x-python",
   "name": "python",
   "nbconvert_exporter": "python",
   "pygments_lexer": "ipython3",
   "version": "3.10.12"
  }
 },
 "nbformat": 4,
 "nbformat_minor": 2
}
