{
 "cells": [
  {
   "cell_type": "markdown",
   "metadata": {},
   "source": [
    "Creo un dictionary in cui riporto tutti i modelli che andrò ad analizzare"
   ]
  },
  {
   "cell_type": "code",
   "execution_count": 7,
   "metadata": {},
   "outputs": [],
   "source": [
    "import xarray as xr\n",
    "import numpy as np\n",
    "import os\n",
    "#from cdo import *\n",
    "from funzioni import compute_dataset_weighted\n",
    "from funzioni import compute_annual_mean_weighted"
   ]
  },
  {
   "cell_type": "code",
   "execution_count": 52,
   "metadata": {},
   "outputs": [],
   "source": [
    "#cdo = Cdo()"
   ]
  },
  {
   "cell_type": "code",
   "execution_count": 2,
   "metadata": {},
   "outputs": [],
   "source": [
    "# creo un dizionario in cui andrò a mettere tutti i modelli dentro\n",
    "models = {}"
   ]
  },
  {
   "cell_type": "code",
   "execution_count": 9,
   "metadata": {},
   "outputs": [],
   "source": [
    "#Costruisco il dizionario models con il nome del modello, il nomde del percorso di tutti i file *.nc di ogni modello e il nome di .nc, cioè il modello remapbil\n",
    "\n",
    "# percorso dei file model.txt e tos_nc_model.txt\n",
    "name_model_path = '/work/users/guest/sbeltrami/name_model.txt'\n",
    "tos_nc_path = '/work/users/guest/sbeltrami/tos_nc_model.txt'\n",
    "remap_tos_nc_path = '/work/users/guest/sbeltrami/remap_tos_nc_model.txt'\n",
    "# Apro i file in modalità di lettura\n",
    "with open(name_model_path, 'r') as file:\n",
    "    # Leggo tutte le righe del file e salvo in una lista\n",
    "    lines_name_model = file.readlines()\n",
    "with open(tos_nc_path, 'r') as file:\n",
    "    # Leggo tutte le righe del file e salvo in una lista\n",
    "    lines_tos_nc = file.readlines()\n",
    "with open(remap_tos_nc_path, 'r') as file:\n",
    "    lines_remap_tos_nc = file.readlines()\n",
    "\n",
    "\n",
    "# Itero su tutte le righe e organizzo i dati nel dizionario\n",
    "for line_name, line_tos, line_remap in zip(lines_name_model, lines_tos_nc, lines_remap_tos_nc):\n",
    "    model_name = line_name.strip()\n",
    "\n",
    "    # La chiave principale model_name deve essere presente nel dizionario\n",
    "    if model_name not in models:\n",
    "        models[model_name] = {}\n",
    "\n",
    "    # Aggiungo i dati come sottochiavi\n",
    "    models[model_name]['name'] = model_name\n",
    "    models[model_name]['path'] = line_tos.strip()\n",
    "    models[model_name]['path remap'] = line_remap.strip()"
   ]
  },
  {
   "cell_type": "code",
   "execution_count": 5,
   "metadata": {},
   "outputs": [
    {
     "data": {
      "text/plain": [
       "dict_items([('model name', 'TaiESM1'), ('model path', '/work/users/guest/sbeltrami/TaiESM1.nc'), ('model path remap', '/work/users/guest/sbeltrami/TaiESM1_remap.nc')])"
      ]
     },
     "execution_count": 5,
     "metadata": {},
     "output_type": "execute_result"
    }
   ],
   "source": [
    "models['TaiESM1'].items()"
   ]
  },
  {
   "cell_type": "code",
   "execution_count": 10,
   "metadata": {},
   "outputs": [
    {
     "name": "stdout",
     "output_type": "stream",
     "text": [
      "<xarray.Dataset>\n",
      "Dimensions:    (time: 1980, bnds: 2, lon: 180, lat: 90)\n",
      "Coordinates:\n",
      "  * time       (time) object 1850-01-17 00:30:00.000003 ... 2014-12-16 12:00:00\n",
      "  * lon        (lon) float64 0.0 2.0 4.0 6.0 8.0 ... 352.0 354.0 356.0 358.0\n",
      "  * lat        (lat) float64 -89.0 -87.0 -85.0 -83.0 ... 83.0 85.0 87.0 89.0\n",
      "Dimensions without coordinates: bnds\n",
      "Data variables:\n",
      "    time_bnds  (time, bnds) object ...\n",
      "    tos        (time, lat, lon) float32 ...\n",
      "Attributes: (12/48)\n",
      "    CDI:                    Climate Data Interface version 2.0.4 (https://mpi...\n",
      "    source:                 TaiESM 1.0 (2018): \\naerosol: SNAP (same grid as ...\n",
      "    institution:            Research Center for Environmental Changes, Academ...\n",
      "    Conventions:            CF-1.7 CMIP-6.2\n",
      "    activity_id:            CMIP\n",
      "    branch_method:          Hybrid-restart from year 0671-01-01 of piControl\n",
      "    ...                     ...\n",
      "    variable_id:            tos\n",
      "    variant_label:          r1i1p1f1\n",
      "    license:                CMIP6 model data produced by REQUIRED is licensed...\n",
      "    cmor_version:           3.5.0\n",
      "    tracking_id:            hdl:21.14100/0dd063b3-4411-4dd3-90e9-4aa651012035\n",
      "    CDO:                    Climate Data Operators version 2.0.4 (https://mpi...\n",
      "Dataset aperto con successo per il modello TaiESM1\n",
      "ok\n",
      "<xarray.Dataset>\n",
      "Dimensions:    (time: 1980, bnds: 2, lon: 180, lat: 90)\n",
      "Coordinates:\n",
      "  * time       (time) datetime64[ns] 1850-01-16T12:00:00 ... 2014-12-16T12:00:00\n",
      "  * lon        (lon) float64 0.0 2.0 4.0 6.0 8.0 ... 352.0 354.0 356.0 358.0\n",
      "  * lat        (lat) float64 -89.0 -87.0 -85.0 -83.0 ... 83.0 85.0 87.0 89.0\n",
      "Dimensions without coordinates: bnds\n",
      "Data variables:\n",
      "    time_bnds  (time, bnds) datetime64[ns] ...\n",
      "    tos        (time, lat, lon) float32 ...\n",
      "Attributes: (12/42)\n",
      "    CDI:                    Climate Data Interface version 2.0.4 (https://mpi...\n",
      "    source:                 AWI-CM-1-1-MR\n",
      "    institution:            Alfred Wegener Institute, Helmholtz Centre for Po...\n",
      "    Conventions:            CF-1.7 CMIP-6.2\n",
      "    frequency:              mon\n",
      "    activity_id:            CMIP\n",
      "    ...                     ...\n",
      "    parent_mip_era:         CMIP6\n",
      "    parent_source_id:       AWI-CM-1-1-MR\n",
      "    parent_time_units:      days since 2401-1-1\n",
      "    parent_variant_label:   r1i1p1f1\n",
      "    history:                Mon Feb 19 17:50:59 2024: cdo remapcon,r180x90 -s...\n",
      "    CDO:                    Climate Data Operators version 2.0.4 (https://mpi...\n",
      "Dataset aperto con successo per il modello AWI-CM-1-1-MR\n",
      "ok\n",
      "<xarray.Dataset>\n",
      "Dimensions:    (time: 1, bnds: 2, lon: 180, lat: 90)\n",
      "Coordinates:\n",
      "  * time       (time) datetime64[ns] 1850-01-16T12:00:00\n",
      "  * lon        (lon) float64 0.0 2.0 4.0 6.0 8.0 ... 352.0 354.0 356.0 358.0\n",
      "  * lat        (lat) float64 -89.0 -87.0 -85.0 -83.0 ... 83.0 85.0 87.0 89.0\n",
      "Dimensions without coordinates: bnds\n",
      "Data variables:\n",
      "    time_bnds  (time, bnds) datetime64[ns] ...\n",
      "Attributes:\n",
      "    CDI:          Climate Data Interface version 2.0.4 (https://mpimet.mpg.de...\n",
      "    Conventions:  CF-1.6\n",
      "Dataset aperto con successo per il modello AWI-ESM-1-1-LR\n"
     ]
    },
    {
     "ename": "KeyError",
     "evalue": "'tos'",
     "output_type": "error",
     "traceback": [
      "\u001b[0;31m---------------------------------------------------------------------------\u001b[0m",
      "\u001b[0;31mKeyError\u001b[0m                                  Traceback (most recent call last)",
      "\u001b[0;32m/usr/lib/python3/dist-packages/xarray/core/dataset.py\u001b[0m in \u001b[0;36m_construct_dataarray\u001b[0;34m(self, name)\u001b[0m\n\u001b[1;32m   1392\u001b[0m         \u001b[0;32mtry\u001b[0m\u001b[0;34m:\u001b[0m\u001b[0;34m\u001b[0m\u001b[0;34m\u001b[0m\u001b[0m\n\u001b[0;32m-> 1393\u001b[0;31m             \u001b[0mvariable\u001b[0m \u001b[0;34m=\u001b[0m \u001b[0mself\u001b[0m\u001b[0;34m.\u001b[0m\u001b[0m_variables\u001b[0m\u001b[0;34m[\u001b[0m\u001b[0mname\u001b[0m\u001b[0;34m]\u001b[0m\u001b[0;34m\u001b[0m\u001b[0;34m\u001b[0m\u001b[0m\n\u001b[0m\u001b[1;32m   1394\u001b[0m         \u001b[0;32mexcept\u001b[0m \u001b[0mKeyError\u001b[0m\u001b[0;34m:\u001b[0m\u001b[0;34m\u001b[0m\u001b[0;34m\u001b[0m\u001b[0m\n",
      "\u001b[0;31mKeyError\u001b[0m: 'tos'",
      "\nDuring handling of the above exception, another exception occurred:\n",
      "\u001b[0;31mKeyError\u001b[0m                                  Traceback (most recent call last)",
      "\u001b[0;32m/tmp/ipykernel_2135895/3662220730.py\u001b[0m in \u001b[0;36m<module>\u001b[0;34m\u001b[0m\n\u001b[1;32m     12\u001b[0m         \u001b[0mprint\u001b[0m\u001b[0;34m(\u001b[0m\u001b[0;34mf\"Dataset aperto con successo per il modello {name}\"\u001b[0m\u001b[0;34m)\u001b[0m\u001b[0;34m\u001b[0m\u001b[0;34m\u001b[0m\u001b[0m\n\u001b[1;32m     13\u001b[0m         \u001b[0;31m#peso il dataset\u001b[0m\u001b[0;34m\u001b[0m\u001b[0;34m\u001b[0m\u001b[0m\n\u001b[0;32m---> 14\u001b[0;31m         \u001b[0mmodels\u001b[0m\u001b[0;34m[\u001b[0m\u001b[0mname\u001b[0m\u001b[0;34m]\u001b[0m\u001b[0;34m[\u001b[0m\u001b[0;34m'dataset weighted'\u001b[0m\u001b[0;34m]\u001b[0m \u001b[0;34m=\u001b[0m \u001b[0mcompute_dataset_weighted\u001b[0m\u001b[0;34m(\u001b[0m\u001b[0mdataset\u001b[0m\u001b[0;34m[\u001b[0m\u001b[0;34m\"tos\"\u001b[0m\u001b[0;34m]\u001b[0m\u001b[0;34m)\u001b[0m\u001b[0;34m\u001b[0m\u001b[0;34m\u001b[0m\u001b[0m\n\u001b[0m\u001b[1;32m     15\u001b[0m         \u001b[0mprint\u001b[0m\u001b[0;34m(\u001b[0m\u001b[0;34m\"ok\"\u001b[0m\u001b[0;34m)\u001b[0m\u001b[0;34m\u001b[0m\u001b[0;34m\u001b[0m\u001b[0m\n\u001b[1;32m     16\u001b[0m         \u001b[0;31m#medie annuali con dataset pesato\u001b[0m\u001b[0;34m\u001b[0m\u001b[0;34m\u001b[0m\u001b[0m\n",
      "\u001b[0;32m/usr/lib/python3/dist-packages/xarray/core/dataset.py\u001b[0m in \u001b[0;36m__getitem__\u001b[0;34m(self, key)\u001b[0m\n\u001b[1;32m   1495\u001b[0m \u001b[0;34m\u001b[0m\u001b[0m\n\u001b[1;32m   1496\u001b[0m         \u001b[0;32mif\u001b[0m \u001b[0mhashable\u001b[0m\u001b[0;34m(\u001b[0m\u001b[0mkey\u001b[0m\u001b[0;34m)\u001b[0m\u001b[0;34m:\u001b[0m\u001b[0;34m\u001b[0m\u001b[0;34m\u001b[0m\u001b[0m\n\u001b[0;32m-> 1497\u001b[0;31m             \u001b[0;32mreturn\u001b[0m \u001b[0mself\u001b[0m\u001b[0;34m.\u001b[0m\u001b[0m_construct_dataarray\u001b[0m\u001b[0;34m(\u001b[0m\u001b[0mkey\u001b[0m\u001b[0;34m)\u001b[0m\u001b[0;34m\u001b[0m\u001b[0;34m\u001b[0m\u001b[0m\n\u001b[0m\u001b[1;32m   1498\u001b[0m         \u001b[0;32melse\u001b[0m\u001b[0;34m:\u001b[0m\u001b[0;34m\u001b[0m\u001b[0;34m\u001b[0m\u001b[0m\n\u001b[1;32m   1499\u001b[0m             \u001b[0;32mreturn\u001b[0m \u001b[0mself\u001b[0m\u001b[0;34m.\u001b[0m\u001b[0m_copy_listed\u001b[0m\u001b[0;34m(\u001b[0m\u001b[0mkey\u001b[0m\u001b[0;34m)\u001b[0m\u001b[0;34m\u001b[0m\u001b[0;34m\u001b[0m\u001b[0m\n",
      "\u001b[0;32m/usr/lib/python3/dist-packages/xarray/core/dataset.py\u001b[0m in \u001b[0;36m_construct_dataarray\u001b[0;34m(self, name)\u001b[0m\n\u001b[1;32m   1393\u001b[0m             \u001b[0mvariable\u001b[0m \u001b[0;34m=\u001b[0m \u001b[0mself\u001b[0m\u001b[0;34m.\u001b[0m\u001b[0m_variables\u001b[0m\u001b[0;34m[\u001b[0m\u001b[0mname\u001b[0m\u001b[0;34m]\u001b[0m\u001b[0;34m\u001b[0m\u001b[0;34m\u001b[0m\u001b[0m\n\u001b[1;32m   1394\u001b[0m         \u001b[0;32mexcept\u001b[0m \u001b[0mKeyError\u001b[0m\u001b[0;34m:\u001b[0m\u001b[0;34m\u001b[0m\u001b[0;34m\u001b[0m\u001b[0m\n\u001b[0;32m-> 1395\u001b[0;31m             _, name, variable = _get_virtual_variable(\n\u001b[0m\u001b[1;32m   1396\u001b[0m                 \u001b[0mself\u001b[0m\u001b[0;34m.\u001b[0m\u001b[0m_variables\u001b[0m\u001b[0;34m,\u001b[0m \u001b[0mname\u001b[0m\u001b[0;34m,\u001b[0m \u001b[0mself\u001b[0m\u001b[0;34m.\u001b[0m\u001b[0m_level_coords\u001b[0m\u001b[0;34m,\u001b[0m \u001b[0mself\u001b[0m\u001b[0;34m.\u001b[0m\u001b[0mdims\u001b[0m\u001b[0;34m\u001b[0m\u001b[0;34m\u001b[0m\u001b[0m\n\u001b[1;32m   1397\u001b[0m             )\n",
      "\u001b[0;32m/usr/lib/python3/dist-packages/xarray/core/dataset.py\u001b[0m in \u001b[0;36m_get_virtual_variable\u001b[0;34m(variables, key, level_vars, dim_sizes)\u001b[0m\n\u001b[1;32m    166\u001b[0m         \u001b[0mref_var\u001b[0m \u001b[0;34m=\u001b[0m \u001b[0mdim_var\u001b[0m\u001b[0;34m.\u001b[0m\u001b[0mto_index_variable\u001b[0m\u001b[0;34m(\u001b[0m\u001b[0;34m)\u001b[0m\u001b[0;34m.\u001b[0m\u001b[0mget_level_variable\u001b[0m\u001b[0;34m(\u001b[0m\u001b[0mref_name\u001b[0m\u001b[0;34m)\u001b[0m\u001b[0;34m\u001b[0m\u001b[0;34m\u001b[0m\u001b[0m\n\u001b[1;32m    167\u001b[0m     \u001b[0;32melse\u001b[0m\u001b[0;34m:\u001b[0m\u001b[0;34m\u001b[0m\u001b[0;34m\u001b[0m\u001b[0m\n\u001b[0;32m--> 168\u001b[0;31m         \u001b[0mref_var\u001b[0m \u001b[0;34m=\u001b[0m \u001b[0mvariables\u001b[0m\u001b[0;34m[\u001b[0m\u001b[0mref_name\u001b[0m\u001b[0;34m]\u001b[0m\u001b[0;34m\u001b[0m\u001b[0;34m\u001b[0m\u001b[0m\n\u001b[0m\u001b[1;32m    169\u001b[0m \u001b[0;34m\u001b[0m\u001b[0m\n\u001b[1;32m    170\u001b[0m     \u001b[0;32mif\u001b[0m \u001b[0mvar_name\u001b[0m \u001b[0;32mis\u001b[0m \u001b[0;32mNone\u001b[0m\u001b[0;34m:\u001b[0m\u001b[0;34m\u001b[0m\u001b[0;34m\u001b[0m\u001b[0m\n",
      "\u001b[0;31mKeyError\u001b[0m: 'tos'"
     ]
    }
   ],
   "source": [
    "count = 0 #conteggio dei file che non si possono aprire\n",
    "count_ok = 0 #conteggio dei file che apro\n",
    "\n",
    "for name in models.keys():\n",
    "    # Verifica se il file NetCDF esiste\n",
    "    #path_remap = models[name]['path remap']\n",
    "    if os.path.exists(models[name]['path remap']):\n",
    "        # Se il file esiste, apri il dataset con xarray\n",
    "        dataset = xr.open_dataset(models[name]['path remap'])\n",
    "        print(dataset)\n",
    "        # Continua con le operazioni sul dataset\n",
    "        print(f\"Dataset aperto con successo per il modello {name}\")\n",
    "        #peso il dataset\n",
    "        models[name]['dataset weighted'] = compute_dataset_weighted(dataset[\"tos\"])\n",
    "        print(\"ok\")\n",
    "        #medie annuali con dataset pesato\n",
    "        #models[name]['annual mean'] = compute_annual_mean_weighted(models[name]['dataset weighted'])\n",
    "        count_ok = count_ok + 1\n",
    "    else:\n",
    "        print(f\"Errore: Il file {models[name]['path remap']} non esiste per il modello {name}\")\n",
    "        count = count + 1\n"
   ]
  },
  {
   "cell_type": "code",
   "execution_count": 28,
   "metadata": {},
   "outputs": [
    {
     "data": {
      "text/plain": [
       "67"
      ]
     },
     "execution_count": 28,
     "metadata": {},
     "output_type": "execute_result"
    }
   ],
   "source": [
    "n = len(models) #numero di modelli"
   ]
  },
  {
   "cell_type": "code",
   "execution_count": 33,
   "metadata": {},
   "outputs": [
    {
     "data": {
      "text/plain": [
       "dict_items([('TaiESM1', {'model name': 'TaiESM1'}), ('AWI-CM-1-1-MR', {'model name': 'AWI-CM-1-1-MR'}), ('AWI-ESM-1-1-LR', {'model name': 'AWI-ESM-1-1-LR'}), ('BCC-CSM2-MR', {'model name': 'BCC-CSM2-MR'}), ('BCC-ESM1', {'model name': 'BCC-ESM1'}), ('CAMS-CSM1-0', {'model name': 'CAMS-CSM1-0'}), ('CAS-ESM2-0', {'model name': 'CAS-ESM2-0'}), ('FGOALS-f3-L', {'model name': 'FGOALS-f3-L'}), ('FGOALS-g3', {'model name': 'FGOALS-g3'}), ('CanESM5', {'model name': 'CanESM5'}), ('CanESM5-1', {'model name': 'CanESM5-1'}), ('IITM-ESM', {'model name': 'IITM-ESM'}), ('CMCC-CM2-HR4', {'model name': 'CMCC-CM2-HR4'}), ('CMCC-CM2-SR5', {'model name': 'CMCC-CM2-SR5'}), ('CMCC-ESM2', {'model name': 'CMCC-ESM2'}), ('CNRM-CM6-1', {'model name': 'CNRM-CM6-1'}), ('CNRM-CM6-1-HR', {'model name': 'CNRM-CM6-1-HR'}), ('CNRM-ESM2-1', {'model name': 'CNRM-ESM2-1'}), ('ACCESS-ESM1-5', {'model name': 'ACCESS-ESM1-5'}), ('ACCESS-CM2', {'model name': 'ACCESS-CM2'}), ('MPI-ESM1-2-HR', {'model name': 'MPI-ESM1-2-HR'}), ('E3SM-1-0', {'model name': 'E3SM-1-0'}), ('E3SM-1-1', {'model name': 'E3SM-1-1'}), ('E3SM-1-1-ECA', {'model name': 'E3SM-1-1-ECA'}), ('E3SM-2-0', {'model name': 'E3SM-2-0'}), ('EC-Earth3', {'model name': 'EC-Earth3'}), ('EC-Earth3-AerChem', {'model name': 'EC-Earth3-AerChem'}), ('EC-Earth3-CC', {'model name': 'EC-Earth3-CC'}), ('EC-Earth3-LR', {'model name': 'EC-Earth3-LR'}), ('EC-Earth3-Veg', {'model name': 'EC-Earth3-Veg'}), ('EC-Earth3-Veg-LR', {'model name': 'EC-Earth3-Veg-LR'}), ('FIO-ESM-2-0', {'model name': 'FIO-ESM-2-0'}), ('MPI-ESM-1-2-HAM', {'model name': 'MPI-ESM-1-2-HAM'}), ('INM-CM4-8', {'model name': 'INM-CM4-8'}), ('INM-CM5-0', {'model name': 'INM-CM5-0'}), ('IPSL-CM5A2-INCA', {'model name': 'IPSL-CM5A2-INCA'}), ('IPSL-CM6A-LR', {'model name': 'IPSL-CM6A-LR'}), ('IPSL-CM6A-LR-INCA', {'model name': 'IPSL-CM6A-LR-INCA'}), ('KIOST-ESM', {'model name': 'KIOST-ESM'}), ('MIROC6', {'model name': 'MIROC6'}), ('MIROC-ES2H', {'model name': 'MIROC-ES2H'}), ('MIROC-ES2L', {'model name': 'MIROC-ES2L'}), ('HadGEM3-GC31-LL', {'model name': 'HadGEM3-GC31-LL'}), ('HadGEM3-GC31-MM', {'model name': 'HadGEM3-GC31-MM'}), ('UKESM1-0-LL', {'model name': 'UKESM1-0-LL'}), ('UKESM1-1-LL', {'model name': 'UKESM1-1-LL'}), ('ICON-ESM-LR', {'model name': 'ICON-ESM-LR'}), ('MPI-ESM1-2-LR', {'model name': 'MPI-ESM1-2-LR'}), ('MRI-ESM2-0', {'model name': 'MRI-ESM2-0'}), ('GISS-E2-1-G', {'model name': 'GISS-E2-1-G'}), ('GISS-E2-1-G-CC', {'model name': 'GISS-E2-1-G-CC'}), ('GISS-E2-1-H', {'model name': 'GISS-E2-1-H'}), ('GISS-E3-G', {'model name': 'GISS-E3-G'}), ('CESM2', {'model name': 'CESM2'}), ('CESM2-FV2', {'model name': 'CESM2-FV2'}), ('CESM2-WACCM', {'model name': 'CESM2-WACCM'}), ('CESM2-WACCM-FV2', {'model name': 'CESM2-WACCM-FV2'}), ('NorCPM1', {'model name': 'NorCPM1'}), ('NorESM2-LM', {'model name': 'NorESM2-LM'}), ('NorESM2-MM', {'model name': 'NorESM2-MM'}), ('KACE-1-0-G', {'model name': 'KACE-1-0-G'}), ('GFDL-CM4', {'model name': 'GFDL-CM4'}), ('GFDL-ESM4', {'model name': 'GFDL-ESM4'}), ('NESM3', {'model name': 'NESM3'}), ('SAM0-UNICON', {'model name': 'SAM0-UNICON'}), ('CIESM', {'model name': 'CIESM'}), ('MCM-UA-1-0', {'model name': 'MCM-UA-1-0'})])"
      ]
     },
     "execution_count": 33,
     "metadata": {},
     "output_type": "execute_result"
    }
   ],
   "source": [
    "models.items()"
   ]
  },
  {
   "cell_type": "code",
   "execution_count": null,
   "metadata": {},
   "outputs": [],
   "source": [
    "tos = xr.open_mfdataset(paths=\"/archive/paolo/cmip6/CMIP6/model-output/EC-Earth-Consortium/EC-Earth3/historical/ocean/Omon/r1i1p1f1/tos/*.nc\")"
   ]
  },
  {
   "cell_type": "code",
   "execution_count": null,
   "metadata": {},
   "outputs": [],
   "source": [
    "new_tos= xr.open_dataset('/work/users/guest/sbeltrami/tostest.nc') #tostest.nc contiene tutti i dati concatenati in tos, usando il comando: cdo remapbil,r180x90 -cat *.nc /work/users/guest/sbeltrami/tostest.nc"
   ]
  },
  {
   "cell_type": "markdown",
   "metadata": {},
   "source": [
    "prova con soli 3 modelli"
   ]
  },
  {
   "cell_type": "code",
   "execution_count": 5,
   "metadata": {},
   "outputs": [],
   "source": [
    "models = { 'Ec-Earth3':\n",
    "                    {'path': '/work/users/guest/sbeltrami/tostest.nc',\n",
    "                     },\n",
    "            'IPSL-CM6A-LR':\n",
    "                    {'path': '/work/users/guest/sbeltrami/tostest_ipsl.nc',\n",
    "                     },\n",
    "            'MPI-ESM1-2-HR':\n",
    "                    {'path': '/work/users/guest/sbeltrami/tostest_mpi.nc',\n",
    "                     }\n",
    "         }"
   ]
  },
  {
   "cell_type": "code",
   "execution_count": 6,
   "metadata": {},
   "outputs": [],
   "source": [
    "for name in models.keys():\n",
    "    #apertura modelli\n",
    "    dataset = xr.open_dataset(models[name]['path'])\n",
    "    #peso il dataset\n",
    "    models[name]['dataset weighted'] = compute_dataset_weighted(dataset[\"tos\"])\n",
    "    #medie annuali con dataset pesato\n",
    "    models[name]['annual mean'] = compute_annual_mean_weighted(models[name]['dataset weighted'])\n"
   ]
  },
  {
   "cell_type": "code",
   "execution_count": 9,
   "metadata": {},
   "outputs": [
    {
     "data": {
      "text/plain": [
       "dict_keys(['path', 'dataset weighted', 'annual mean'])"
      ]
     },
     "execution_count": 9,
     "metadata": {},
     "output_type": "execute_result"
    }
   ],
   "source": [
    "models['Ec-Earth3'].keys()"
   ]
  },
  {
   "cell_type": "code",
   "execution_count": 10,
   "metadata": {},
   "outputs": [],
   "source": [
    "models['Ec-Earth3'].items()"
   ]
  }
 ],
 "metadata": {
  "kernelspec": {
   "display_name": "Python 3",
   "language": "python",
   "name": "python3"
  },
  "language_info": {
   "codemirror_mode": {
    "name": "ipython",
    "version": 3
   },
   "file_extension": ".py",
   "mimetype": "text/x-python",
   "name": "python",
   "nbconvert_exporter": "python",
   "pygments_lexer": "ipython3",
   "version": "3.10.12"
  }
 },
 "nbformat": 4,
 "nbformat_minor": 2
}
